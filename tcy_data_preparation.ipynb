{
  "nbformat": 4,
  "nbformat_minor": 0,
  "metadata": {
    "colab": {
      "provenance": []
    },
    "kernelspec": {
      "name": "python3",
      "display_name": "Python 3"
    },
    "language_info": {
      "name": "python"
    },
    "accelerator": "GPU",
    "gpuClass": "standard"
  },
  "cells": [
    {
      "cell_type": "code",
      "execution_count": null,
      "metadata": {
        "colab": {
          "base_uri": "https://localhost:8080/"
        },
        "id": "gf3hoVeLgZ0I",
        "outputId": "1abc30aa-32b2-4a01-8912-576f38f5293c"
      },
      "outputs": [
        {
          "output_type": "stream",
          "name": "stdout",
          "text": [
            "Drive already mounted at /content/drive; to attempt to forcibly remount, call drive.mount(\"/content/drive\", force_remount=True).\n"
          ]
        }
      ],
      "source": [
        "from google.colab import drive\n",
        "drive.mount('/content/drive')"
      ]
    },
    {
      "cell_type": "code",
      "source": [
        "%reset"
      ],
      "metadata": {
        "colab": {
          "base_uri": "https://localhost:8080/"
        },
        "id": "2h8C-LKGgrkp",
        "outputId": "3cbc52c6-a615-431f-9f48-bab5fd6c03a9"
      },
      "execution_count": null,
      "outputs": [
        {
          "name": "stdout",
          "output_type": "stream",
          "text": [
            "Once deleted, variables cannot be recovered. Proceed (y/[n])? y\n"
          ]
        }
      ]
    },
    {
      "cell_type": "code",
      "source": [
        "!pip install emoji"
      ],
      "metadata": {
        "colab": {
          "base_uri": "https://localhost:8080/"
        },
        "id": "oJRlKXgkgs8q",
        "outputId": "0a45cb52-2b22-4d46-b416-79bb452d65e5"
      },
      "execution_count": null,
      "outputs": [
        {
          "output_type": "stream",
          "name": "stdout",
          "text": [
            "Looking in indexes: https://pypi.org/simple, https://us-python.pkg.dev/colab-wheels/public/simple/\n",
            "Collecting emoji\n",
            "  Downloading emoji-2.5.1.tar.gz (356 kB)\n",
            "\u001b[2K     \u001b[90m━━━━━━━━━━━━━━━━━━━━━━━━━━━━━━━━━━━━━━\u001b[0m \u001b[32m356.3/356.3 kB\u001b[0m \u001b[31m16.5 MB/s\u001b[0m eta \u001b[36m0:00:00\u001b[0m\n",
            "\u001b[?25h  Preparing metadata (setup.py) ... \u001b[?25l\u001b[?25hdone\n",
            "Building wheels for collected packages: emoji\n",
            "  Building wheel for emoji (setup.py) ... \u001b[?25l\u001b[?25hdone\n",
            "  Created wheel for emoji: filename=emoji-2.5.1-py2.py3-none-any.whl size=351210 sha256=f6b4c04e03821b09419c64605e315e4b7759f25c33963ee9cda6af60a1490df1\n",
            "  Stored in directory: /root/.cache/pip/wheels/51/92/44/e2ef13f803aa08711819357e6de0c5fe67b874671141413565\n",
            "Successfully built emoji\n",
            "Installing collected packages: emoji\n",
            "Successfully installed emoji-2.5.1\n"
          ]
        }
      ]
    },
    {
      "cell_type": "code",
      "source": [
        "import numpy as np\n",
        "import pandas as pd\n",
        "import matplotlib.pyplot as plt\n",
        "import seaborn as sns\n",
        "\n",
        "import emoji\n",
        "\n",
        "from sklearn.feature_extraction.text import TfidfVectorizer\n",
        "\n",
        "from imblearn.over_sampling import SMOTE\n",
        "\n",
        "import re"
      ],
      "metadata": {
        "id": "OJ_cH2PAgwGr"
      },
      "execution_count": null,
      "outputs": []
    },
    {
      "cell_type": "code",
      "source": [
        "# Load data\n",
        "\n",
        "train_small = pd.read_csv(\"/content/drive/MyDrive/tulu/tulu-train.csv\")\n",
        "dev_df = pd.read_csv(\"/content/drive/MyDrive/tulu/tulu-dev.csv\")\n",
        "train_df = train_small.append(dev_df, ignore_index = True)\n",
        "test_df = pd.read_csv(\"/content/drive/MyDrive/tulu/sen_tulu_test_with_label.csv\")"
      ],
      "metadata": {
        "id": "gJAbTiVZgw2W",
        "colab": {
          "base_uri": "https://localhost:8080/"
        },
        "outputId": "2745d8a1-dac1-4cd8-a331-dd37d0e54e97"
      },
      "execution_count": null,
      "outputs": [
        {
          "output_type": "stream",
          "name": "stderr",
          "text": [
            "<ipython-input-4-9ee0dda65759>:5: FutureWarning: The frame.append method is deprecated and will be removed from pandas in a future version. Use pandas.concat instead.\n",
            "  train_df = train_small.append(dev_df, ignore_index = True)\n"
          ]
        }
      ]
    },
    {
      "cell_type": "code",
      "source": [
        "#IMPORT FROM LIST\n",
        "#DUMMY NOW\n",
        "\n",
        "synonyms =[]"
      ],
      "metadata": {
        "id": "jKIVPCZ7crWy"
      },
      "execution_count": 1,
      "outputs": []
    },
    {
      "cell_type": "code",
      "source": [
        "# Create the plot\n",
        "ax = sns.countplot(x=train_df['Annotations'])\n",
        "ax.bar_label(ax.containers[0], label_type='edge')\n",
        "\n",
        "# plt.xlabel(\"Category\")\n",
        "# plt.ylabel(\"Frequency\")\n",
        "\n",
        "# plt.show()"
      ],
      "metadata": {
        "colab": {
          "base_uri": "https://localhost:8080/",
          "height": 467
        },
        "id": "x4Rs6S2AgyP2",
        "outputId": "b3210e12-2f44-4423-b4e7-74275f67774a"
      },
      "execution_count": null,
      "outputs": [
        {
          "output_type": "execute_result",
          "data": {
            "text/plain": [
              "[Text(0, 0, '3487'), Text(0, 0, '1921'), Text(0, 0, '1094'), Text(0, 0, '736')]"
            ]
          },
          "metadata": {},
          "execution_count": 5
        },
        {
          "output_type": "display_data",
          "data": {
            "text/plain": [
              "<Figure size 640x480 with 1 Axes>"
            ],
            "image/png": "[encoded data removed]"
          },
          "metadata": {}
        }
      ]
    },
    {
      "cell_type": "code",
      "source": [
        "ax = sns.countplot(x=test_df['Annotations'])\n",
        "ax.bar_label(ax.containers[0], label_type='edge')"
      ],
      "metadata": {
        "id": "i6DHZF-x4OMA",
        "outputId": "2d510624-ddc1-45a6-808b-088c629b30a9",
        "colab": {
          "base_uri": "https://localhost:8080/",
          "height": 467
        }
      },
      "execution_count": null,
      "outputs": [
        {
          "output_type": "execute_result",
          "data": {
            "text/plain": [
              "[Text(0, 0, '344'), Text(0, 0, '197'), Text(0, 0, '60'), Text(0, 0, '107')]"
            ]
          },
          "metadata": {},
          "execution_count": 6
        },
        {
          "output_type": "display_data",
          "data": {
            "text/plain": [
              "<Figure size 640x480 with 1 Axes>"
            ],
            "image/png": "[encoded data removed]"
          },
          "metadata": {}
        }
      ]
    },
    {
      "cell_type": "markdown",
      "source": [
        "Preprocess Emojis"
      ],
      "metadata": {
        "id": "6D9yAOqcg6LR"
      }
    },
    {
      "cell_type": "code",
      "source": [
        "# Outright removing emojis reduces performancet\n",
        "def process_emojis(df_col):\n",
        "  deemojised_text = []\n",
        "\n",
        "  for row in df_col:\n",
        "    #deemojised_text.append(emoji.demojize(''.join(('') if c in emoji.EMOJI_DATA else c for c in row)))\n",
        "    deemojised_text.append(emoji.demojize(''.join((' '+c+' ') if c in emoji.EMOJI_DATA else c for c in row)))\n",
        "\n",
        "  return deemojised_text"
      ],
      "metadata": {
        "id": "1DrrnZ7gg5n1"
      },
      "execution_count": null,
      "outputs": []
    },
    {
      "cell_type": "markdown",
      "source": [
        "Remove punctuation, special characters, numbers, tags, URLs"
      ],
      "metadata": {
        "id": "XOGrGBbVhA6y"
      }
    },
    {
      "cell_type": "code",
      "source": [
        "def clean_text(df_col):\n",
        "    cleaned_text = []\n",
        "\n",
        "    for text in df_col:\n",
        "      # Remove HTML tags\n",
        "      text = re.sub(r'<[^>]+>', '', text)\n",
        "      # Remove URLs\n",
        "      text = re.sub(r'http\\S+', '', text)\n",
        "      # Remove punctuation and special characters\n",
        "      text = re.sub(r'[^\\w\\s]', ' ', text)\n",
        "      # Remove numbers\n",
        "      text = re.sub(r'\\d+', '', text)\n",
        "      # Remove extra whitespaces\n",
        "      text = re.sub(r'\\s+', ' ', text).strip()\n",
        "      text = text.lower()\n",
        "      cleaned_text.append(text)\n",
        "\n",
        "    #print(cleaned_text)\n",
        "    return cleaned_text"
      ],
      "metadata": {
        "id": "B2XOIMGhg-P0"
      },
      "execution_count": null,
      "outputs": []
    },
    {
      "cell_type": "markdown",
      "source": [
        "Remove stopwords\n",
        "\n",
        "Note: This reduced the model performace"
      ],
      "metadata": {
        "id": "ywQ3BBDlhE9G"
      }
    },
    {
      "cell_type": "code",
      "source": [
        "path = \"/content/drive/MyDrive/tulu/eng_tulu_stopwords.txt\"\n",
        "\n",
        "stopwords = set()\n",
        "with open(path) as f:\n",
        "  for line in f:\n",
        "    for word in (line.rstrip().split(', ')):\n",
        "      stopwords.add(word)"
      ],
      "metadata": {
        "id": "zYiK4StChDIo"
      },
      "execution_count": null,
      "outputs": []
    },
    {
      "cell_type": "code",
      "source": [
        "def remove_stopwords(df_col):\n",
        "    stop_removed = []\n",
        "\n",
        "    for text in df_col:\n",
        "      stop_removed.append(' '.join([word for word in text.split() if word.lower() not in stopwords]))\n",
        "\n",
        "    return stop_removed\n",
        "    #return df_col"
      ],
      "metadata": {
        "id": "75msG3WxhJSw"
      },
      "execution_count": null,
      "outputs": []
    },
    {
      "cell_type": "markdown",
      "source": [
        "Remove entries with non-English chars\n",
        "\n",
        "Note: This reduces model performance"
      ],
      "metadata": {
        "id": "De6IaXczhQBw"
      }
    },
    {
      "cell_type": "code",
      "source": [
        "# Search compeletely English chars text\n",
        "# Drop the rows other rows\n",
        "\n",
        "def eng_chars_rows(df_col):\n",
        "  def isEnglish(s):\n",
        "    return any(ord(c) > 127 for c in s)\n",
        "  is_eng = []\n",
        "\n",
        "  for row in df_col:\n",
        "    is_eng.append(not isEnglish(row))\n",
        "\n",
        "  return is_eng"
      ],
      "metadata": {
        "id": "DJDAfP-uhKwF"
      },
      "execution_count": null,
      "outputs": []
    },
    {
      "cell_type": "code",
      "source": [
        "# Comments consisting less than 3 words and longer than\n",
        "# 15 words were removed as it is difficult to comprehend\n",
        "# the sentiments\n",
        "\n",
        "def check_len(df_col):\n",
        "  l = []\n",
        "  for i in (df_col):\n",
        "    if len(i.split()) >= 3 and len(i.split()) <= 15:\n",
        "      l.append(1)\n",
        "    else:\n",
        "      l.append(0)\n",
        "\n",
        "  return l\n"
      ],
      "metadata": {
        "id": "45d-BzQOhTr5"
      },
      "execution_count": null,
      "outputs": []
    },
    {
      "cell_type": "code",
      "source": [
        "# Encode all\n",
        "# train_df = ordinal_encoder(orig_train_df, orig_train_df.drop(['Text'], axis=1).columns)\n",
        "# test_df = ordinal_encoder(orig_test_df, orig_test_df.drop(['Text'], axis=1).columns)\n"
      ],
      "metadata": {
        "id": "5vZ4AV2zhWSI"
      },
      "execution_count": null,
      "outputs": []
    },
    {
      "cell_type": "code",
      "source": [
        "# Apply all preprocessing to Text\n",
        "train_df['Processed_Text'] = process_emojis(train_df['Text'])\n",
        "train_df['Processed_Text'] = clean_text(train_df['Processed_Text'])\n",
        "#train_df['Processed_Text'] = remove_stopwords(train_df['Processed_Text'])\n",
        "\n",
        "test_df['Processed_Text'] = process_emojis(test_df['Text'])\n",
        "test_df['Processed_Text'] = clean_text(test_df['Processed_Text'])\n",
        "#test_df['Processed_Text'] = remove_stopwords(test_df['Processed_Text'])"
      ],
      "metadata": {
        "id": "MUpRAmqnhWye"
      },
      "execution_count": null,
      "outputs": []
    },
    {
      "cell_type": "code",
      "source": [
        "train_df['Is_Eng'] = eng_chars_rows(train_df['Processed_Text'])\n",
        "train_df = train_df[train_df['Is_Eng'] == True]\n",
        "\n",
        "test_df['Is_Eng'] = eng_chars_rows(test_df['Processed_Text'])\n",
        "test_df = test_df[test_df['Is_Eng'] == True]"
      ],
      "metadata": {
        "id": "ADDw4wFghYAx"
      },
      "execution_count": null,
      "outputs": []
    },
    {
      "cell_type": "code",
      "source": [
        "train_df['Len'] = check_len(train_df['Processed_Text'])\n",
        "train_df = train_df[train_df['Len'] == 1]\n",
        "\n",
        "test_df['Len'] = check_len(test_df['Processed_Text'])\n",
        "test_df = test_df[test_df['Len'] == 1]\n"
      ],
      "metadata": {
        "id": "tCmhJvDJhZop"
      },
      "execution_count": null,
      "outputs": []
    },
    {
      "cell_type": "code",
      "source": [
        "train_df"
      ],
      "metadata": {
        "colab": {
          "base_uri": "https://localhost:8080/",
          "height": 555
        },
        "id": "KEAJmCPdhbRA",
        "outputId": "0e4a9fd9-64e2-4280-c71a-1054a9cc35aa"
      },
      "execution_count": null,
      "outputs": [
        {
          "output_type": "execute_result",
          "data": {
            "text/plain": [
              "                                                   Text Annotations  \\\n",
              "0                                    Devdas kapikad no1    Positive   \n",
              "1                                        ajji eer super    Positive   \n",
              "2                                  Bega 2 nd part padle     Neutral   \n",
              "4      Tulu panda enku masth ista i love tulu  tulunadu    Positive   \n",
              "5     Vlog ista apundu masth and ir patherniya kendr...    Positive   \n",
              "...                                                 ...         ...   \n",
              "7233  SUPERB  ALL ARE ACTING....AMAZING...BHARI KUSH...    Positive   \n",
              "7234                            Bolar anna  sooooopar..    Positive   \n",
              "7235  .. question onji..\\nKai yereeeg mugiyondh ethin🥺😥     Neutral   \n",
              "7236       Extra pukuli ethenakulu... Ayeg korle... Plz    Positive   \n",
              "7237            Mattuda ponne ninna guttu yan tinondene     Neutral   \n",
              "\n",
              "                                         Processed_Text  Is_Eng  Len  \n",
              "0                                     devdas kapikad no    True    1  \n",
              "1                                        ajji eer super    True    1  \n",
              "2                                    bega nd part padle    True    1  \n",
              "4       tulu panda enku masth ista i love tulu tulunadu    True    1  \n",
              "5     vlog ista apundu masth and ir patherniya kendr...    True    1  \n",
              "...                                                 ...     ...  ...  \n",
              "7233  superb all are acting amazing bhari kushi aand...    True    1  \n",
              "7234                               bolar anna sooooopar    True    1  \n",
              "7235  question onji kai yereeeg mugiyondh ethin plea...    True    1  \n",
              "7236             extra pukuli ethenakulu ayeg korle plz    True    1  \n",
              "7237            mattuda ponne ninna guttu yan tinondene    True    1  \n",
              "\n",
              "[6264 rows x 5 columns]"
            ],
            "text/html": [
              "\n",
              "  <div id=\"df-1b72a5ac-6884-43a7-99b1-abc99cbd793e\">\n",
              "    <div class=\"colab-df-container\">\n",
              "      <div>\n",
              "<style scoped>\n",
              "    .dataframe tbody tr th:only-of-type {\n",
              "        vertical-align: middle;\n",
              "    }\n",
              "\n",
              "    .dataframe tbody tr th {\n",
              "        vertical-align: top;\n",
              "    }\n",
              "\n",
              "    .dataframe thead th {\n",
              "        text-align: right;\n",
              "    }\n",
              "</style>\n",
              "<table border=\"1\" class=\"dataframe\">\n",
              "  <thead>\n",
              "    <tr style=\"text-align: right;\">\n",
              "      <th></th>\n",
              "      <th>Text</th>\n",
              "      <th>Annotations</th>\n",
              "      <th>Processed_Text</th>\n",
              "      <th>Is_Eng</th>\n",
              "      <th>Len</th>\n",
              "    </tr>\n",
              "  </thead>\n",
              "  <tbody>\n",
              "    <tr>\n",
              "      <th>0</th>\n",
              "      <td>Devdas kapikad no1</td>\n",
              "      <td>Positive</td>\n",
              "      <td>devdas kapikad no</td>\n",
              "      <td>True</td>\n",
              "      <td>1</td>\n",
              "    </tr>\n",
              "    <tr>\n",
              "      <th>1</th>\n",
              "      <td>ajji eer super</td>\n",
              "      <td>Positive</td>\n",
              "      <td>ajji eer super</td>\n",
              "      <td>True</td>\n",
              "      <td>1</td>\n",
              "    </tr>\n",
              "    <tr>\n",
              "      <th>2</th>\n",
              "      <td>Bega 2 nd part padle</td>\n",
              "      <td>Neutral</td>\n",
              "      <td>bega nd part padle</td>\n",
              "      <td>True</td>\n",
              "      <td>1</td>\n",
              "    </tr>\n",
              "    <tr>\n",
              "      <th>4</th>\n",
              "      <td>Tulu panda enku masth ista i love tulu  tulunadu</td>\n",
              "      <td>Positive</td>\n",
              "      <td>tulu panda enku masth ista i love tulu tulunadu</td>\n",
              "      <td>True</td>\n",
              "      <td>1</td>\n",
              "    </tr>\n",
              "    <tr>\n",
              "      <th>5</th>\n",
              "      <td>Vlog ista apundu masth and ir patherniya kendr...</td>\n",
              "      <td>Positive</td>\n",
              "      <td>vlog ista apundu masth and ir patherniya kendr...</td>\n",
              "      <td>True</td>\n",
              "      <td>1</td>\n",
              "    </tr>\n",
              "    <tr>\n",
              "      <th>...</th>\n",
              "      <td>...</td>\n",
              "      <td>...</td>\n",
              "      <td>...</td>\n",
              "      <td>...</td>\n",
              "      <td>...</td>\n",
              "    </tr>\n",
              "    <tr>\n",
              "      <th>7233</th>\n",
              "      <td>SUPERB  ALL ARE ACTING....AMAZING...BHARI KUSH...</td>\n",
              "      <td>Positive</td>\n",
              "      <td>superb all are acting amazing bhari kushi aand...</td>\n",
              "      <td>True</td>\n",
              "      <td>1</td>\n",
              "    </tr>\n",
              "    <tr>\n",
              "      <th>7234</th>\n",
              "      <td>Bolar anna  sooooopar..</td>\n",
              "      <td>Positive</td>\n",
              "      <td>bolar anna sooooopar</td>\n",
              "      <td>True</td>\n",
              "      <td>1</td>\n",
              "    </tr>\n",
              "    <tr>\n",
              "      <th>7235</th>\n",
              "      <td>.. question onji..\\nKai yereeeg mugiyondh ethin🥺😥</td>\n",
              "      <td>Neutral</td>\n",
              "      <td>question onji kai yereeeg mugiyondh ethin plea...</td>\n",
              "      <td>True</td>\n",
              "      <td>1</td>\n",
              "    </tr>\n",
              "    <tr>\n",
              "      <th>7236</th>\n",
              "      <td>Extra pukuli ethenakulu... Ayeg korle... Plz</td>\n",
              "      <td>Positive</td>\n",
              "      <td>extra pukuli ethenakulu ayeg korle plz</td>\n",
              "      <td>True</td>\n",
              "      <td>1</td>\n",
              "    </tr>\n",
              "    <tr>\n",
              "      <th>7237</th>\n",
              "      <td>Mattuda ponne ninna guttu yan tinondene</td>\n",
              "      <td>Neutral</td>\n",
              "      <td>mattuda ponne ninna guttu yan tinondene</td>\n",
              "      <td>True</td>\n",
              "      <td>1</td>\n",
              "    </tr>\n",
              "  </tbody>\n",
              "</table>\n",
              "<p>6264 rows × 5 columns</p>\n",
              "</div>\n",
              "      <button class=\"colab-df-convert\" onclick=\"convertToInteractive('df-1b72a5ac-6884-43a7-99b1-abc99cbd793e')\"\n",
              "              title=\"Convert this dataframe to an interactive table.\"\n",
              "              style=\"display:none;\">\n",
              "        \n",
              "  <svg xmlns=\"http://www.w3.org/2000/svg\" height=\"24px\"viewBox=\"0 0 24 24\"\n",
              "       width=\"24px\">\n",
              "    <path d=\"M0 0h24v24H0V0z\" fill=\"none\"/>\n",
              "    <path d=\"M18.56 5.44l.94 2.06.94-2.06 2.06-.94-2.06-.94-.94-2.06-.94 2.06-2.06.94zm-11 1L8.5 8.5l.94-2.06 2.06-.94-2.06-.94L8.5 2.5l-.94 2.06-2.06.94zm10 10l.94 2.06.94-2.06 2.06-.94-2.06-.94-.94-2.06-.94 2.06-2.06.94z\"/><path d=\"M17.41 7.96l-1.37-1.37c-.4-.4-.92-.59-1.43-.59-.52 0-1.04.2-1.43.59L10.3 9.45l-7.72 7.72c-.78.78-.78 2.05 0 2.83L4 21.41c.39.39.9.59 1.41.59.51 0 1.02-.2 1.41-.59l7.78-7.78 2.81-2.81c.8-.78.8-2.07 0-2.86zM5.41 20L4 18.59l7.72-7.72 1.47 1.35L5.41 20z\"/>\n",
              "  </svg>\n",
              "      </button>\n",
              "      \n",
              "  <style>\n",
              "    .colab-df-container {\n",
              "      display:flex;\n",
              "      flex-wrap:wrap;\n",
              "      gap: 12px;\n",
              "    }\n",
              "\n",
              "    .colab-df-convert {\n",
              "      background-color: #E8F0FE;\n",
              "      border: none;\n",
              "      border-radius: 50%;\n",
              "      cursor: pointer;\n",
              "      display: none;\n",
              "      fill: #1967D2;\n",
              "      height: 32px;\n",
              "      padding: 0 0 0 0;\n",
              "      width: 32px;\n",
              "    }\n",
              "\n",
              "    .colab-df-convert:hover {\n",
              "      background-color: #E2EBFA;\n",
              "      box-shadow: 0px 1px 2px rgba(60, 64, 67, 0.3), 0px 1px 3px 1px rgba(60, 64, 67, 0.15);\n",
              "      fill: #174EA6;\n",
              "    }\n",
              "\n",
              "    [theme=dark] .colab-df-convert {\n",
              "      background-color: #3B4455;\n",
              "      fill: #D2E3FC;\n",
              "    }\n",
              "\n",
              "    [theme=dark] .colab-df-convert:hover {\n",
              "      background-color: #434B5C;\n",
              "      box-shadow: 0px 1px 3px 1px rgba(0, 0, 0, 0.15);\n",
              "      filter: drop-shadow(0px 1px 2px rgba(0, 0, 0, 0.3));\n",
              "      fill: #FFFFFF;\n",
              "    }\n",
              "  </style>\n",
              "\n",
              "      <script>\n",
              "        const buttonEl =\n",
              "          document.querySelector('#df-1b72a5ac-6884-43a7-99b1-abc99cbd793e button.colab-df-convert');\n",
              "        buttonEl.style.display =\n",
              "          google.colab.kernel.accessAllowed ? 'block' : 'none';\n",
              "\n",
              "        async function convertToInteractive(key) {\n",
              "          const element = document.querySelector('#df-1b72a5ac-6884-43a7-99b1-abc99cbd793e');\n",
              "          const dataTable =\n",
              "            await google.colab.kernel.invokeFunction('convertToInteractive',\n",
              "                                                     [key], {});\n",
              "          if (!dataTable) return;\n",
              "\n",
              "          const docLinkHtml = 'Like what you see? Visit the ' +\n",
              "            '<a target=\"_blank\" href=https://colab.research.google.com/notebooks/data_table.ipynb>data table notebook</a>'\n",
              "            + ' to learn more about interactive tables.';\n",
              "          element.innerHTML = '';\n",
              "          dataTable['output_type'] = 'display_data';\n",
              "          await google.colab.output.renderOutput(dataTable, element);\n",
              "          const docLink = document.createElement('div');\n",
              "          docLink.innerHTML = docLinkHtml;\n",
              "          element.appendChild(docLink);\n",
              "        }\n",
              "      </script>\n",
              "    </div>\n",
              "  </div>\n",
              "  "
            ]
          },
          "metadata": {},
          "execution_count": 17
        }
      ]
    },
    {
      "cell_type": "code",
      "source": [
        "test_df"
      ],
      "metadata": {
        "colab": {
          "base_uri": "https://localhost:8080/",
          "height": 537
        },
        "id": "HOhyg3uyhdwY",
        "outputId": "62d05b03-616a-40cc-a08b-d6859ff93bcd"
      },
      "execution_count": null,
      "outputs": [
        {
          "output_type": "execute_result",
          "data": {
            "text/plain": [
              "                                                  Text Annotations  \\\n",
              "0    Suraaj shetr eer manjeswaradaara wow yanla alp...    Positive   \n",
              "1                             Bari Porluda Comedy Show    Positive   \n",
              "2    Att marayere.\\nAde Al-Cafe dalpa, Somosa Ajjer...     Neutral   \n",
              "3                                Embe onji mage karmda    Negative   \n",
              "4                            bari porlu😘tulunad namma☺    Positive   \n",
              "..                                                 ...         ...   \n",
              "702                            Ice cream da price yth?     Neutral   \n",
              "703                            NINNA APPE BANG KORPUNO     Neutral   \n",
              "704                             Bhagavather edde uller    Positive   \n",
              "705  Dinesh Sir ...yedde msg korthar ...masth kushi...    Positive   \n",
              "707            7:13 Kasargod tulu slang correct athnd.    Positive   \n",
              "\n",
              "                                        Processed_Text  Is_Eng  Len  \n",
              "0    suraaj shetr eer manjeswaradaara wow yanla alp...    True    1  \n",
              "1                             bari porluda comedy show    True    1  \n",
              "2    att marayere ade al cafe dalpa somosa ajjereg ...    True    1  \n",
              "3                                embe onji mage karmda    True    1  \n",
              "4    bari porlu face_blowing_a_kiss tulunad namma s...    True    1  \n",
              "..                                                 ...     ...  ...  \n",
              "702                             ice cream da price yth    True    1  \n",
              "703                            ninna appe bang korpuno    True    1  \n",
              "704                             bhagavather edde uller    True    1  \n",
              "705  dinesh sir yedde msg korthar masth kushi aapun...    True    1  \n",
              "707                  kasargod tulu slang correct athnd    True    1  \n",
              "\n",
              "[609 rows x 5 columns]"
            ],
            "text/html": [
              "\n",
              "  <div id=\"df-043a5807-95d5-4b4a-ac08-e361f4241537\">\n",
              "    <div class=\"colab-df-container\">\n",
              "      <div>\n",
              "<style scoped>\n",
              "    .dataframe tbody tr th:only-of-type {\n",
              "        vertical-align: middle;\n",
              "    }\n",
              "\n",
              "    .dataframe tbody tr th {\n",
              "        vertical-align: top;\n",
              "    }\n",
              "\n",
              "    .dataframe thead th {\n",
              "        text-align: right;\n",
              "    }\n",
              "</style>\n",
              "<table border=\"1\" class=\"dataframe\">\n",
              "  <thead>\n",
              "    <tr style=\"text-align: right;\">\n",
              "      <th></th>\n",
              "      <th>Text</th>\n",
              "      <th>Annotations</th>\n",
              "      <th>Processed_Text</th>\n",
              "      <th>Is_Eng</th>\n",
              "      <th>Len</th>\n",
              "    </tr>\n",
              "  </thead>\n",
              "  <tbody>\n",
              "    <tr>\n",
              "      <th>0</th>\n",
              "      <td>Suraaj shetr eer manjeswaradaara wow yanla alp...</td>\n",
              "      <td>Positive</td>\n",
              "      <td>suraaj shetr eer manjeswaradaara wow yanla alp...</td>\n",
              "      <td>True</td>\n",
              "      <td>1</td>\n",
              "    </tr>\n",
              "    <tr>\n",
              "      <th>1</th>\n",
              "      <td>Bari Porluda Comedy Show</td>\n",
              "      <td>Positive</td>\n",
              "      <td>bari porluda comedy show</td>\n",
              "      <td>True</td>\n",
              "      <td>1</td>\n",
              "    </tr>\n",
              "    <tr>\n",
              "      <th>2</th>\n",
              "      <td>Att marayere.\\nAde Al-Cafe dalpa, Somosa Ajjer...</td>\n",
              "      <td>Neutral</td>\n",
              "      <td>att marayere ade al cafe dalpa somosa ajjereg ...</td>\n",
              "      <td>True</td>\n",
              "      <td>1</td>\n",
              "    </tr>\n",
              "    <tr>\n",
              "      <th>3</th>\n",
              "      <td>Embe onji mage karmda</td>\n",
              "      <td>Negative</td>\n",
              "      <td>embe onji mage karmda</td>\n",
              "      <td>True</td>\n",
              "      <td>1</td>\n",
              "    </tr>\n",
              "    <tr>\n",
              "      <th>4</th>\n",
              "      <td>bari porlu😘tulunad namma☺</td>\n",
              "      <td>Positive</td>\n",
              "      <td>bari porlu face_blowing_a_kiss tulunad namma s...</td>\n",
              "      <td>True</td>\n",
              "      <td>1</td>\n",
              "    </tr>\n",
              "    <tr>\n",
              "      <th>...</th>\n",
              "      <td>...</td>\n",
              "      <td>...</td>\n",
              "      <td>...</td>\n",
              "      <td>...</td>\n",
              "      <td>...</td>\n",
              "    </tr>\n",
              "    <tr>\n",
              "      <th>702</th>\n",
              "      <td>Ice cream da price yth?</td>\n",
              "      <td>Neutral</td>\n",
              "      <td>ice cream da price yth</td>\n",
              "      <td>True</td>\n",
              "      <td>1</td>\n",
              "    </tr>\n",
              "    <tr>\n",
              "      <th>703</th>\n",
              "      <td>NINNA APPE BANG KORPUNO</td>\n",
              "      <td>Neutral</td>\n",
              "      <td>ninna appe bang korpuno</td>\n",
              "      <td>True</td>\n",
              "      <td>1</td>\n",
              "    </tr>\n",
              "    <tr>\n",
              "      <th>704</th>\n",
              "      <td>Bhagavather edde uller</td>\n",
              "      <td>Positive</td>\n",
              "      <td>bhagavather edde uller</td>\n",
              "      <td>True</td>\n",
              "      <td>1</td>\n",
              "    </tr>\n",
              "    <tr>\n",
              "      <th>705</th>\n",
              "      <td>Dinesh Sir ...yedde msg korthar ...masth kushi...</td>\n",
              "      <td>Positive</td>\n",
              "      <td>dinesh sir yedde msg korthar masth kushi aapun...</td>\n",
              "      <td>True</td>\n",
              "      <td>1</td>\n",
              "    </tr>\n",
              "    <tr>\n",
              "      <th>707</th>\n",
              "      <td>7:13 Kasargod tulu slang correct athnd.</td>\n",
              "      <td>Positive</td>\n",
              "      <td>kasargod tulu slang correct athnd</td>\n",
              "      <td>True</td>\n",
              "      <td>1</td>\n",
              "    </tr>\n",
              "  </tbody>\n",
              "</table>\n",
              "<p>609 rows × 5 columns</p>\n",
              "</div>\n",
              "      <button class=\"colab-df-convert\" onclick=\"convertToInteractive('df-043a5807-95d5-4b4a-ac08-e361f4241537')\"\n",
              "              title=\"Convert this dataframe to an interactive table.\"\n",
              "              style=\"display:none;\">\n",
              "        \n",
              "  <svg xmlns=\"http://www.w3.org/2000/svg\" height=\"24px\"viewBox=\"0 0 24 24\"\n",
              "       width=\"24px\">\n",
              "    <path d=\"M0 0h24v24H0V0z\" fill=\"none\"/>\n",
              "    <path d=\"M18.56 5.44l.94 2.06.94-2.06 2.06-.94-2.06-.94-.94-2.06-.94 2.06-2.06.94zm-11 1L8.5 8.5l.94-2.06 2.06-.94-2.06-.94L8.5 2.5l-.94 2.06-2.06.94zm10 10l.94 2.06.94-2.06 2.06-.94-2.06-.94-.94-2.06-.94 2.06-2.06.94z\"/><path d=\"M17.41 7.96l-1.37-1.37c-.4-.4-.92-.59-1.43-.59-.52 0-1.04.2-1.43.59L10.3 9.45l-7.72 7.72c-.78.78-.78 2.05 0 2.83L4 21.41c.39.39.9.59 1.41.59.51 0 1.02-.2 1.41-.59l7.78-7.78 2.81-2.81c.8-.78.8-2.07 0-2.86zM5.41 20L4 18.59l7.72-7.72 1.47 1.35L5.41 20z\"/>\n",
              "  </svg>\n",
              "      </button>\n",
              "      \n",
              "  <style>\n",
              "    .colab-df-container {\n",
              "      display:flex;\n",
              "      flex-wrap:wrap;\n",
              "      gap: 12px;\n",
              "    }\n",
              "\n",
              "    .colab-df-convert {\n",
              "      background-color: #E8F0FE;\n",
              "      border: none;\n",
              "      border-radius: 50%;\n",
              "      cursor: pointer;\n",
              "      display: none;\n",
              "      fill: #1967D2;\n",
              "      height: 32px;\n",
              "      padding: 0 0 0 0;\n",
              "      width: 32px;\n",
              "    }\n",
              "\n",
              "    .colab-df-convert:hover {\n",
              "      background-color: #E2EBFA;\n",
              "      box-shadow: 0px 1px 2px rgba(60, 64, 67, 0.3), 0px 1px 3px 1px rgba(60, 64, 67, 0.15);\n",
              "      fill: #174EA6;\n",
              "    }\n",
              "\n",
              "    [theme=dark] .colab-df-convert {\n",
              "      background-color: #3B4455;\n",
              "      fill: #D2E3FC;\n",
              "    }\n",
              "\n",
              "    [theme=dark] .colab-df-convert:hover {\n",
              "      background-color: #434B5C;\n",
              "      box-shadow: 0px 1px 3px 1px rgba(0, 0, 0, 0.15);\n",
              "      filter: drop-shadow(0px 1px 2px rgba(0, 0, 0, 0.3));\n",
              "      fill: #FFFFFF;\n",
              "    }\n",
              "  </style>\n",
              "\n",
              "      <script>\n",
              "        const buttonEl =\n",
              "          document.querySelector('#df-043a5807-95d5-4b4a-ac08-e361f4241537 button.colab-df-convert');\n",
              "        buttonEl.style.display =\n",
              "          google.colab.kernel.accessAllowed ? 'block' : 'none';\n",
              "\n",
              "        async function convertToInteractive(key) {\n",
              "          const element = document.querySelector('#df-043a5807-95d5-4b4a-ac08-e361f4241537');\n",
              "          const dataTable =\n",
              "            await google.colab.kernel.invokeFunction('convertToInteractive',\n",
              "                                                     [key], {});\n",
              "          if (!dataTable) return;\n",
              "\n",
              "          const docLinkHtml = 'Like what you see? Visit the ' +\n",
              "            '<a target=\"_blank\" href=https://colab.research.google.com/notebooks/data_table.ipynb>data table notebook</a>'\n",
              "            + ' to learn more about interactive tables.';\n",
              "          element.innerHTML = '';\n",
              "          dataTable['output_type'] = 'display_data';\n",
              "          await google.colab.output.renderOutput(dataTable, element);\n",
              "          const docLink = document.createElement('div');\n",
              "          docLink.innerHTML = docLinkHtml;\n",
              "          element.appendChild(docLink);\n",
              "        }\n",
              "      </script>\n",
              "    </div>\n",
              "  </div>\n",
              "  "
            ]
          },
          "metadata": {},
          "execution_count": 18
        }
      ]
    },
    {
      "cell_type": "code",
      "source": [
        "import pandas as pd\n",
        "\n",
        "# Assuming `series` is your Pandas Series containing the words\n",
        "series = train_df['Processed_Text']\n",
        "result = synonyms\n",
        "for sublist in result:\n",
        "    sublist_words = sublist[1]\n",
        "    first_word = sublist[0]\n",
        "\n",
        "    # Create a boolean mask for words in the sublist\n",
        "    mask = series.apply(lambda x: any(word in sublist_words for word in x.split()))\n",
        "\n",
        "    # Replace the words in the mask with the first word from the sublist\n",
        "    series.loc[mask] = series.loc[mask].apply(lambda x: ' '.join([first_word if word in sublist_words else word for word in x.split()]))\n",
        "\n",
        "# Print the updated Series\n",
        "print(series)"
      ],
      "metadata": {
        "colab": {
          "base_uri": "https://localhost:8080/"
        },
        "id": "SN2RSq8JRlh9",
        "outputId": "4561f987-751e-4371-b4e8-659ac65c11ad"
      },
      "execution_count": null,
      "outputs": [
        {
          "output_type": "stream",
          "name": "stderr",
          "text": [
            "<ipython-input-19-f7680ace5048>:14: SettingWithCopyWarning: \n",
            "A value is trying to be set on a copy of a slice from a DataFrame\n",
            "\n",
            "See the caveats in the documentation: https://pandas.pydata.org/pandas-docs/stable/user_guide/indexing.html#returning-a-view-versus-a-copy\n",
            "  series.loc[mask] = series.loc[mask].apply(lambda x: ' '.join([first_word if word in sublist_words else word for word in x.split()]))\n"
          ]
        },
        {
          "output_type": "stream",
          "name": "stdout",
          "text": [
            "0                                       devdas kapikad no\n",
            "1                                          ajji eer super\n",
            "2                                      bega nd part padle\n",
            "4          tulu panda enku masth ista i love tulu tulunad\n",
            "5       vlog ista apund masth and eer patherniya kendr...\n",
            "                              ...                        \n",
            "7233    super all are acting amazing bhari kushi aand ...\n",
            "7234                                 bolar anna sooooopar\n",
            "7235    question onji kai yereeeg mugiyondh ethin plea...\n",
            "7236              extra pukilin ethenakulu ayna korle plz\n",
            "7237                mattuda ponne eer guttu yan tinondene\n",
            "Name: Processed_Text, Length: 6264, dtype: object\n"
          ]
        }
      ]
    },
    {
      "cell_type": "code",
      "source": [
        "import pandas as pd\n",
        "\n",
        "# Assuming `series` is your Pandas Series containing the words\n",
        "series = test_df['Processed_Text']\n",
        "result = synonyms\n",
        "for sublist in result:\n",
        "    sublist_words = sublist[1]\n",
        "    first_word = sublist[0]\n",
        "\n",
        "    # Create a boolean mask for words in the sublist\n",
        "    mask = series.apply(lambda x: any(word in sublist_words for word in x.split()))\n",
        "\n",
        "    # Replace the words in the mask with the first word from the sublist\n",
        "    series.loc[mask] = series.loc[mask].apply(lambda x: ' '.join([first_word if word in sublist_words else word for word in x.split()]))\n",
        "\n",
        "# Print the updated Series\n",
        "print(series)"
      ],
      "metadata": {
        "colab": {
          "base_uri": "https://localhost:8080/"
        },
        "id": "2nL-Nw5aT43i",
        "outputId": "e65995ab-5db0-420d-f9e3-9b15706e9621"
      },
      "execution_count": null,
      "outputs": [
        {
          "output_type": "stream",
          "name": "stdout",
          "text": [
            "0      suraaj shetr eer manjeswaradaara wow yan alpad...\n",
            "1                               bari porluda comedy show\n",
            "2      athnd marayere ade aal cafe dalpa somosa ajjer...\n",
            "3                                  embe onji mage karmda\n",
            "4      bari porlu face_blowing_a_kiss tulunad nama sm...\n",
            "                             ...                        \n",
            "702                               ice cream da price yth\n",
            "703                                eer appe bang korpuno\n",
            "704                              bhagavather yedde uller\n",
            "705    dinesh sir yedde msg korthar masth kushi apund...\n",
            "707                    kasargod tulu slang correct athnd\n",
            "Name: Processed_Text, Length: 609, dtype: object\n"
          ]
        },
        {
          "output_type": "stream",
          "name": "stderr",
          "text": [
            "<ipython-input-20-1e59a8e48cdd>:14: SettingWithCopyWarning: \n",
            "A value is trying to be set on a copy of a slice from a DataFrame\n",
            "\n",
            "See the caveats in the documentation: https://pandas.pydata.org/pandas-docs/stable/user_guide/indexing.html#returning-a-view-versus-a-copy\n",
            "  series.loc[mask] = series.loc[mask].apply(lambda x: ' '.join([first_word if word in sublist_words else word for word in x.split()]))\n"
          ]
        }
      ]
    },
    {
      "cell_type": "markdown",
      "source": [
        "TF-IDF"
      ],
      "metadata": {
        "id": "AUy5Ad-rhjNO"
      }
    },
    {
      "cell_type": "code",
      "source": [
        "X_train = train_df['Processed_Text']\n",
        "y_train = train_df['Annotations']\n",
        "\n",
        "X_test = test_df['Processed_Text']\n",
        "y_test = test_df['Annotations']"
      ],
      "metadata": {
        "id": "FL5kplRehqX1"
      },
      "execution_count": null,
      "outputs": []
    },
    {
      "cell_type": "code",
      "source": [
        "from sklearn.preprocessing import LabelEncoder\n",
        "le = LabelEncoder()\n",
        "y_train = le.fit_transform(y_train)\n",
        "y_train"
      ],
      "metadata": {
        "colab": {
          "base_uri": "https://localhost:8080/"
        },
        "id": "TpUkXGGdgPgj",
        "outputId": "e3fdc8c6-538e-4dac-9aad-daaaad0a081e"
      },
      "execution_count": null,
      "outputs": [
        {
          "output_type": "execute_result",
          "data": {
            "text/plain": [
              "array([3, 3, 2, ..., 2, 3, 2])"
            ]
          },
          "metadata": {},
          "execution_count": 22
        }
      ]
    },
    {
      "cell_type": "code",
      "source": [
        "y_test = le.fit_transform(y_test)\n",
        "y_test"
      ],
      "metadata": {
        "colab": {
          "base_uri": "https://localhost:8080/"
        },
        "id": "7QLx5gPsg7Ol",
        "outputId": "329fd41f-ecd7-446a-c3a0-1cd213e47686"
      },
      "execution_count": null,
      "outputs": [
        {
          "output_type": "execute_result",
          "data": {
            "text/plain": [
              "array([3, 3, 2, 1, 3, 2, 3, 3, 3, 2, 2, 3, 3, 3, 3, 2, 2, 2, 2, 3, 3, 2,\n",
              "       2, 3, 2, 3, 3, 3, 0, 3, 3, 3, 3, 2, 1, 3, 3, 0, 2, 1, 2, 1, 0, 2,\n",
              "       3, 0, 3, 3, 2, 2, 2, 2, 3, 3, 0, 0, 2, 2, 3, 2, 3, 3, 2, 0, 0, 3,\n",
              "       3, 0, 1, 0, 3, 0, 0, 3, 1, 3, 0, 3, 3, 2, 2, 0, 3, 2, 1, 2, 3, 3,\n",
              "       3, 3, 3, 0, 2, 3, 1, 3, 3, 2, 3, 3, 3, 3, 3, 3, 3, 3, 2, 3, 2, 3,\n",
              "       3, 0, 3, 3, 0, 3, 3, 3, 2, 0, 3, 0, 2, 0, 2, 3, 2, 0, 1, 1, 3, 0,\n",
              "       3, 2, 2, 1, 2, 2, 3, 0, 1, 0, 3, 2, 3, 3, 0, 3, 3, 0, 2, 0, 0, 0,\n",
              "       2, 3, 3, 3, 3, 3, 0, 2, 2, 0, 3, 2, 1, 1, 2, 2, 3, 0, 3, 0, 2, 3,\n",
              "       2, 3, 3, 3, 0, 0, 1, 3, 2, 3, 2, 3, 3, 0, 3, 3, 2, 3, 3, 2, 0, 2,\n",
              "       0, 3, 0, 0, 3, 3, 0, 2, 3, 2, 3, 1, 2, 3, 2, 2, 0, 3, 3, 2, 3, 2,\n",
              "       3, 3, 3, 2, 3, 0, 3, 3, 0, 0, 3, 2, 2, 2, 3, 3, 3, 3, 0, 3, 0, 1,\n",
              "       3, 2, 2, 2, 2, 3, 3, 1, 3, 2, 3, 2, 1, 2, 2, 2, 2, 2, 3, 3, 3, 1,\n",
              "       1, 3, 2, 3, 3, 1, 1, 0, 2, 2, 3, 2, 3, 2, 2, 1, 3, 2, 1, 3, 2, 0,\n",
              "       3, 2, 0, 3, 0, 2, 3, 3, 2, 1, 2, 2, 3, 2, 3, 3, 3, 3, 3, 2, 1, 2,\n",
              "       3, 3, 1, 3, 0, 2, 3, 0, 0, 3, 3, 1, 3, 3, 0, 3, 3, 2, 2, 2, 3, 0,\n",
              "       0, 0, 1, 1, 3, 3, 0, 3, 3, 2, 0, 3, 2, 0, 3, 0, 2, 1, 3, 1, 3, 3,\n",
              "       3, 3, 3, 3, 2, 3, 3, 2, 0, 0, 3, 3, 3, 3, 3, 3, 3, 0, 2, 3, 2, 3,\n",
              "       3, 2, 0, 1, 3, 3, 3, 3, 3, 3, 1, 0, 0, 2, 2, 3, 0, 3, 3, 3, 3, 2,\n",
              "       3, 3, 3, 2, 2, 3, 3, 1, 3, 2, 3, 3, 0, 0, 2, 3, 1, 3, 2, 2, 3, 3,\n",
              "       2, 0, 2, 2, 0, 0, 1, 3, 3, 3, 2, 3, 3, 0, 3, 3, 3, 3, 2, 3, 3, 0,\n",
              "       3, 3, 2, 1, 2, 3, 2, 2, 3, 1, 3, 2, 3, 3, 2, 3, 2, 1, 3, 2, 3, 2,\n",
              "       2, 1, 3, 2, 3, 1, 0, 0, 3, 2, 3, 3, 3, 3, 3, 2, 3, 3, 3, 3, 3, 2,\n",
              "       3, 3, 3, 3, 0, 2, 0, 1, 3, 3, 1, 3, 2, 3, 0, 3, 3, 3, 0, 0, 1, 3,\n",
              "       2, 3, 3, 3, 3, 3, 3, 3, 2, 3, 2, 3, 2, 2, 2, 3, 3, 3, 0, 2, 0, 3,\n",
              "       3, 3, 2, 3, 2, 0, 0, 1, 0, 1, 2, 3, 2, 0, 1, 3, 3, 3, 0, 3, 3, 2,\n",
              "       3, 3, 3, 3, 2, 2, 1, 3, 3, 3, 3, 2, 2, 3, 1, 3, 3, 3, 0, 0, 0, 3,\n",
              "       3, 2, 3, 2, 2, 2, 0, 3, 3, 1, 3, 3, 2, 2, 3, 3, 2, 1, 3, 1, 2, 2,\n",
              "       3, 2, 3, 0, 3, 3, 3, 2, 3, 3, 2, 2, 3, 3, 3])"
            ]
          },
          "metadata": {},
          "execution_count": 23
        }
      ]
    },
    {
      "cell_type": "code",
      "source": [
        "from sklearn.feature_extraction.text import TfidfVectorizer\n",
        "vectorizer= TfidfVectorizer(max_features=5000, ngram_range=(1, 2), use_idf=False)\n",
        "tf_x_train = vectorizer.fit_transform(X_train)\n",
        "tf_x_test = vectorizer.transform(X_test)\n"
      ],
      "metadata": {
        "id": "eCppP_q2hfQB"
      },
      "execution_count": null,
      "outputs": []
    },
    {
      "cell_type": "markdown",
      "source": [
        "Upsampling\n"
      ],
      "metadata": {
        "id": "eqFu86-Mh5K_"
      }
    },
    {
      "cell_type": "code",
      "source": [
        "# Apply SMOTE\n",
        "smote = SMOTE()\n",
        "X_train_resampled, y_train_resampled = smote.fit_resample(tf_x_train, y_train)\n",
        "\n",
        "sns.countplot(x=y_train_resampled)\n",
        "\n",
        "# Add labels to the plot\n",
        "plt.xlabel(\"Category\")\n",
        "plt.ylabel(\"Frequency\")\n",
        "\n",
        "# Display the plot\n",
        "plt.show()"
      ],
      "metadata": {
        "colab": {
          "base_uri": "https://localhost:8080/",
          "height": 449
        },
        "id": "bGFa9tpHhlrt",
        "outputId": "d3a01d6e-dcb4-4fa6-90b6-aec8e5f95fb2"
      },
      "execution_count": null,
      "outputs": [
        {
          "output_type": "display_data",
          "data": {
            "text/plain": [
              "<Figure size 640x480 with 1 Axes>"
            ],
            "image/png": "[encoded data removed]"
          },
          "metadata": {}
        }
      ]
    },
    {
      "cell_type": "markdown",
      "source": [
        "# Data Augmentation"
      ],
      "metadata": {
        "id": "E-X47Jefh_IE"
      }
    },
    {
      "cell_type": "code",
      "source": [
        "!pip install textattack"
      ],
      "metadata": {
        "colab": {
          "base_uri": "https://localhost:8080/"
        },
        "id": "vg4zcMN0h4yq",
        "outputId": "dd25482b-6e8b-41a1-9391-4009c060794d"
      },
      "execution_count": null,
      "outputs": [
        {
          "output_type": "stream",
          "name": "stdout",
          "text": [
            "Looking in indexes: https://pypi.org/simple, https://us-python.pkg.dev/colab-wheels/public/simple/\n",
            "Collecting textattack\n",
            "  Downloading textattack-0.3.8-py3-none-any.whl (418 kB)\n",
            "\u001b[2K     \u001b[90m━━━━━━━━━━━━━━━━━━━━━━━━━━━━━━━━━━━━━━\u001b[0m \u001b[32m418.7/418.7 kB\u001b[0m \u001b[31m26.3 MB/s\u001b[0m eta \u001b[36m0:00:00\u001b[0m\n",
            "\u001b[?25hCollecting bert-score>=0.3.5 (from textattack)\n",
            "  Downloading bert_score-0.3.13-py3-none-any.whl (61 kB)\n",
            "\u001b[2K     \u001b[90m━━━━━━━━━━━━━━━━━━━━━━━━━━━━━━━━━━━━━━━━\u001b[0m \u001b[32m61.1/61.1 kB\u001b[0m \u001b[31m8.9 MB/s\u001b[0m eta \u001b[36m0:00:00\u001b[0m\n",
            "\u001b[?25hRequirement already satisfied: editdistance in /usr/local/lib/python3.10/dist-packages (from textattack) (0.6.2)\n",
            "Collecting flair (from textattack)\n",
            "  Downloading flair-0.12.2-py3-none-any.whl (373 kB)\n",
            "\u001b[2K     \u001b[90m━━━━━━━━━━━━━━━━━━━━━━━━━━━━━━━━━━━━━━\u001b[0m \u001b[32m373.1/373.1 kB\u001b[0m \u001b[31m41.4 MB/s\u001b[0m eta \u001b[36m0:00:00\u001b[0m\n",
            "\u001b[?25hRequirement already satisfied: filelock in /usr/local/lib/python3.10/dist-packages (from textattack) (3.12.2)\n",
            "Collecting language-tool-python (from textattack)\n",
            "  Downloading language_tool_python-2.7.1-py3-none-any.whl (34 kB)\n",
            "Collecting lemminflect (from textattack)\n",
            "  Downloading lemminflect-0.2.3-py3-none-any.whl (769 kB)\n",
            "\u001b[2K     \u001b[90m━━━━━━━━━━━━━━━━━━━━━━━━━━━━━━━━━━━━━━\u001b[0m \u001b[32m769.7/769.7 kB\u001b[0m \u001b[31m62.5 MB/s\u001b[0m eta \u001b[36m0:00:00\u001b[0m\n",
            "\u001b[?25hCollecting lru-dict (from textattack)\n",
            "  Downloading lru_dict-1.2.0-cp310-cp310-manylinux_2_5_x86_64.manylinux1_x86_64.manylinux_2_17_x86_64.manylinux2014_x86_64.whl (28 kB)\n",
            "Collecting datasets==2.4.0 (from textattack)\n",
            "  Downloading datasets-2.4.0-py3-none-any.whl (365 kB)\n",
            "\u001b[2K     \u001b[90m━━━━━━━━━━━━━━━━━━━━━━━━━━━━━━━━━━━━━━\u001b[0m \u001b[32m365.7/365.7 kB\u001b[0m \u001b[31m41.5 MB/s\u001b[0m eta \u001b[36m0:00:00\u001b[0m\n",
            "\u001b[?25hRequirement already satisfied: nltk in /usr/local/lib/python3.10/dist-packages (from textattack) (3.8.1)\n",
            "Requirement already satisfied: numpy>=1.21.0 in /usr/local/lib/python3.10/dist-packages (from textattack) (1.22.4)\n",
            "Requirement already satisfied: pandas>=1.0.1 in /usr/local/lib/python3.10/dist-packages (from textattack) (1.5.3)\n",
            "Requirement already satisfied: scipy>=1.4.1 in /usr/local/lib/python3.10/dist-packages (from textattack) (1.10.1)\n",
            "Requirement already satisfied: torch!=1.8,>=1.7.0 in /usr/local/lib/python3.10/dist-packages (from textattack) (2.0.1+cu118)\n",
            "Collecting transformers>=4.21.0 (from textattack)\n",
            "  Downloading transformers-4.30.2-py3-none-any.whl (7.2 MB)\n",
            "\u001b[2K     \u001b[90m━━━━━━━━━━━━━━━━━━━━━━━━━━━━━━━━━━━━━━━━\u001b[0m \u001b[32m7.2/7.2 MB\u001b[0m \u001b[31m95.8 MB/s\u001b[0m eta \u001b[36m0:00:00\u001b[0m\n",
            "\u001b[?25hCollecting terminaltables (from textattack)\n",
            "  Downloading terminaltables-3.1.10-py2.py3-none-any.whl (15 kB)\n",
            "Requirement already satisfied: tqdm in /usr/local/lib/python3.10/dist-packages (from textattack) (4.65.0)\n",
            "Collecting word2number (from textattack)\n",
            "  Downloading word2number-1.1.zip (9.7 kB)\n",
            "  Preparing metadata (setup.py) ... \u001b[?25l\u001b[?25hdone\n",
            "Collecting num2words (from textattack)\n",
            "  Downloading num2words-0.5.12-py3-none-any.whl (125 kB)\n",
            "\u001b[2K     \u001b[90m━━━━━━━━━━━━━━━━━━━━━━━━━━━━━━━━━━━━━━\u001b[0m \u001b[32m125.2/125.2 kB\u001b[0m \u001b[31m15.8 MB/s\u001b[0m eta \u001b[36m0:00:00\u001b[0m\n",
            "\u001b[?25hRequirement already satisfied: more-itertools in /usr/local/lib/python3.10/dist-packages (from textattack) (9.1.0)\n",
            "Requirement already satisfied: PySocks!=1.5.7,>=1.5.6 in /usr/local/lib/python3.10/dist-packages (from textattack) (1.7.1)\n",
            "Collecting pinyin==0.4.0 (from textattack)\n",
            "  Downloading pinyin-0.4.0.tar.gz (3.6 MB)\n",
            "\u001b[2K     \u001b[90m━━━━━━━━━━━━━━━━━━━━━━━━━━━━━━━━━━━━━━━━\u001b[0m \u001b[32m3.6/3.6 MB\u001b[0m \u001b[31m101.1 MB/s\u001b[0m eta \u001b[36m0:00:00\u001b[0m\n",
            "\u001b[?25h  Preparing metadata (setup.py) ... \u001b[?25l\u001b[?25hdone\n",
            "Requirement already satisfied: jieba in /usr/local/lib/python3.10/dist-packages (from textattack) (0.42.1)\n",
            "Collecting OpenHowNet (from textattack)\n",
            "  Downloading OpenHowNet-2.0-py3-none-any.whl (18 kB)\n",
            "Collecting pycld2 (from textattack)\n",
            "  Downloading pycld2-0.41.tar.gz (41.4 MB)\n",
            "\u001b[2K     \u001b[90m━━━━━━━━━━━━━━━━━━━━━━━━━━━━━━━━━━━━━━━━\u001b[0m \u001b[32m41.4/41.4 MB\u001b[0m \u001b[31m22.0 MB/s\u001b[0m eta \u001b[36m0:00:00\u001b[0m\n",
            "\u001b[?25h  Preparing metadata (setup.py) ... \u001b[?25l\u001b[?25hdone\n",
            "Collecting click<8.1.0 (from textattack)\n",
            "  Downloading click-8.0.4-py3-none-any.whl (97 kB)\n",
            "\u001b[2K     \u001b[90m━━━━━━━━━━━━━━━━━━━━━━━━━━━━━━━━━━━━━━━━\u001b[0m \u001b[32m97.5/97.5 kB\u001b[0m \u001b[31m12.4 MB/s\u001b[0m eta \u001b[36m0:00:00\u001b[0m\n",
            "\u001b[?25hRequirement already satisfied: pyarrow>=6.0.0 in /usr/local/lib/python3.10/dist-packages (from datasets==2.4.0->textattack) (9.0.0)\n",
            "Collecting dill<0.3.6 (from datasets==2.4.0->textattack)\n",
            "  Downloading dill-0.3.5.1-py2.py3-none-any.whl (95 kB)\n",
            "\u001b[2K     \u001b[90m━━━━━━━━━━━━━━━━━━━━━━━━━━━━━━━━━━━━━━━━\u001b[0m \u001b[32m95.8/95.8 kB\u001b[0m \u001b[31m14.0 MB/s\u001b[0m eta \u001b[36m0:00:00\u001b[0m\n",
            "\u001b[?25hRequirement already satisfied: requests>=2.19.0 in /usr/local/lib/python3.10/dist-packages (from datasets==2.4.0->textattack) (2.27.1)\n",
            "Collecting xxhash (from datasets==2.4.0->textattack)\n",
            "  Downloading xxhash-3.2.0-cp310-cp310-manylinux_2_17_x86_64.manylinux2014_x86_64.whl (212 kB)\n",
            "\u001b[2K     \u001b[90m━━━━━━━━━━━━━━━━━━━━━━━━━━━━━━━━━━━━━━\u001b[0m \u001b[32m212.5/212.5 kB\u001b[0m \u001b[31m27.0 MB/s\u001b[0m eta \u001b[36m0:00:00\u001b[0m\n",
            "\u001b[?25hCollecting multiprocess (from datasets==2.4.0->textattack)\n",
            "  Downloading multiprocess-0.70.14-py310-none-any.whl (134 kB)\n",
            "\u001b[2K     \u001b[90m━━━━━━━━━━━━━━━━━━━━━━━━━━━━━━━━━━━━━━\u001b[0m \u001b[32m134.3/134.3 kB\u001b[0m \u001b[31m19.8 MB/s\u001b[0m eta \u001b[36m0:00:00\u001b[0m\n",
            "\u001b[?25hRequirement already satisfied: fsspec[http]>=2021.11.1 in /usr/local/lib/python3.10/dist-packages (from datasets==2.4.0->textattack) (2023.6.0)\n",
            "Collecting aiohttp (from datasets==2.4.0->textattack)\n",
            "  Downloading aiohttp-3.8.4-cp310-cp310-manylinux_2_17_x86_64.manylinux2014_x86_64.whl (1.0 MB)\n",
            "\u001b[2K     \u001b[90m━━━━━━━━━━━━━━━━━━━━━━━━━━━━━━━━━━━━━━━━\u001b[0m \u001b[32m1.0/1.0 MB\u001b[0m \u001b[31m62.6 MB/s\u001b[0m eta \u001b[36m0:00:00\u001b[0m\n",
            "\u001b[?25hCollecting huggingface-hub<1.0.0,>=0.1.0 (from datasets==2.4.0->textattack)\n",
            "  Downloading huggingface_hub-0.15.1-py3-none-any.whl (236 kB)\n",
            "\u001b[2K     \u001b[90m━━━━━━━━━━━━━━━━━━━━━━━━━━━━━━━━━━━━━━\u001b[0m \u001b[32m236.8/236.8 kB\u001b[0m \u001b[31m30.5 MB/s\u001b[0m eta \u001b[36m0:00:00\u001b[0m\n",
            "\u001b[?25hRequirement already satisfied: packaging in /usr/local/lib/python3.10/dist-packages (from datasets==2.4.0->textattack) (23.1)\n",
            "Collecting responses<0.19 (from datasets==2.4.0->textattack)\n",
            "  Downloading responses-0.18.0-py3-none-any.whl (38 kB)\n",
            "Requirement already satisfied: matplotlib in /usr/local/lib/python3.10/dist-packages (from bert-score>=0.3.5->textattack) (3.7.1)\n",
            "Requirement already satisfied: python-dateutil>=2.8.1 in /usr/local/lib/python3.10/dist-packages (from pandas>=1.0.1->textattack) (2.8.2)\n",
            "Requirement already satisfied: pytz>=2020.1 in /usr/local/lib/python3.10/dist-packages (from pandas>=1.0.1->textattack) (2022.7.1)\n",
            "Requirement already satisfied: typing-extensions in /usr/local/lib/python3.10/dist-packages (from torch!=1.8,>=1.7.0->textattack) (4.6.3)\n",
            "Requirement already satisfied: sympy in /usr/local/lib/python3.10/dist-packages (from torch!=1.8,>=1.7.0->textattack) (1.11.1)\n",
            "Requirement already satisfied: networkx in /usr/local/lib/python3.10/dist-packages (from torch!=1.8,>=1.7.0->textattack) (3.1)\n",
            "Requirement already satisfied: jinja2 in /usr/local/lib/python3.10/dist-packages (from torch!=1.8,>=1.7.0->textattack) (3.1.2)\n",
            "Requirement already satisfied: triton==2.0.0 in /usr/local/lib/python3.10/dist-packages (from torch!=1.8,>=1.7.0->textattack) (2.0.0)\n",
            "Requirement already satisfied: cmake in /usr/local/lib/python3.10/dist-packages (from triton==2.0.0->torch!=1.8,>=1.7.0->textattack) (3.25.2)\n",
            "Requirement already satisfied: lit in /usr/local/lib/python3.10/dist-packages (from triton==2.0.0->torch!=1.8,>=1.7.0->textattack) (16.0.6)\n",
            "Requirement already satisfied: pyyaml>=5.1 in /usr/local/lib/python3.10/dist-packages (from transformers>=4.21.0->textattack) (6.0)\n",
            "Requirement already satisfied: regex!=2019.12.17 in /usr/local/lib/python3.10/dist-packages (from transformers>=4.21.0->textattack) (2022.10.31)\n",
            "Collecting tokenizers!=0.11.3,<0.14,>=0.11.1 (from transformers>=4.21.0->textattack)\n",
            "  Downloading tokenizers-0.13.3-cp310-cp310-manylinux_2_17_x86_64.manylinux2014_x86_64.whl (7.8 MB)\n",
            "\u001b[2K     \u001b[90m━━━━━━━━━━━━━━━━━━━━━━━━━━━━━━━━━━━━━━━━\u001b[0m \u001b[32m7.8/7.8 MB\u001b[0m \u001b[31m119.6 MB/s\u001b[0m eta \u001b[36m0:00:00\u001b[0m\n",
            "\u001b[?25hCollecting safetensors>=0.3.1 (from transformers>=4.21.0->textattack)\n",
            "  Downloading safetensors-0.3.1-cp310-cp310-manylinux_2_17_x86_64.manylinux2014_x86_64.whl (1.3 MB)\n",
            "\u001b[2K     \u001b[90m━━━━━━━━━━━━━━━━━━━━━━━━━━━━━━━━━━━━━━━━\u001b[0m \u001b[32m1.3/1.3 MB\u001b[0m \u001b[31m88.4 MB/s\u001b[0m eta \u001b[36m0:00:00\u001b[0m\n",
            "\u001b[?25hRequirement already satisfied: gensim>=3.8.0 in /usr/local/lib/python3.10/dist-packages (from flair->textattack) (4.3.1)\n",
            "Collecting segtok>=1.5.7 (from flair->textattack)\n",
            "  Downloading segtok-1.5.11-py3-none-any.whl (24 kB)\n",
            "Collecting mpld3==0.3 (from flair->textattack)\n",
            "  Downloading mpld3-0.3.tar.gz (788 kB)\n",
            "\u001b[2K     \u001b[90m━━━━━━━━━━━━━━━━━━━━━━━━━━━━━━━━━━━━━━\u001b[0m \u001b[32m788.5/788.5 kB\u001b[0m \u001b[31m65.0 MB/s\u001b[0m eta \u001b[36m0:00:00\u001b[0m\n",
            "\u001b[?25h  Preparing metadata (setup.py) ... \u001b[?25l\u001b[?25hdone\n",
            "Requirement already satisfied: scikit-learn>=0.21.3 in /usr/local/lib/python3.10/dist-packages (from flair->textattack) (1.2.2)\n",
            "Collecting sqlitedict>=1.6.0 (from flair->textattack)\n",
            "  Downloading sqlitedict-2.1.0.tar.gz (21 kB)\n",
            "  Preparing metadata (setup.py) ... \u001b[?25l\u001b[?25hdone\n",
            "Collecting deprecated>=1.2.4 (from flair->textattack)\n",
            "  Downloading Deprecated-1.2.14-py2.py3-none-any.whl (9.6 kB)\n",
            "Requirement already satisfied: hyperopt>=0.2.7 in /usr/local/lib/python3.10/dist-packages (from flair->textattack) (0.2.7)\n",
            "Collecting boto3 (from flair->textattack)\n",
            "  Downloading boto3-1.26.160-py3-none-any.whl (135 kB)\n",
            "\u001b[2K     \u001b[90m━━━━━━━━━━━━━━━━━━━━━━━━━━━━━━━━━━━━━━\u001b[0m \u001b[32m135.9/135.9 kB\u001b[0m \u001b[31m18.2 MB/s\u001b[0m eta \u001b[36m0:00:00\u001b[0m\n",
            "\u001b[?25hCollecting bpemb>=0.3.2 (from flair->textattack)\n",
            "  Downloading bpemb-0.3.4-py3-none-any.whl (19 kB)\n",
            "Requirement already satisfied: tabulate in /usr/local/lib/python3.10/dist-packages (from flair->textattack) (0.8.10)\n",
            "Collecting langdetect (from flair->textattack)\n",
            "  Downloading langdetect-1.0.9.tar.gz (981 kB)\n",
            "\u001b[2K     \u001b[90m━━━━━━━━━━━━━━━━━━━━━━━━━━━━━━━━━━━━━━\u001b[0m \u001b[32m981.5/981.5 kB\u001b[0m \u001b[31m68.1 MB/s\u001b[0m eta \u001b[36m0:00:00\u001b[0m\n",
            "\u001b[?25h  Preparing metadata (setup.py) ... \u001b[?25l\u001b[?25hdone\n",
            "Requirement already satisfied: lxml in /usr/local/lib/python3.10/dist-packages (from flair->textattack) (4.9.2)\n",
            "Collecting ftfy (from flair->textattack)\n",
            "  Downloading ftfy-6.1.1-py3-none-any.whl (53 kB)\n",
            "\u001b[2K     \u001b[90m━━━━━━━━━━━━━━━━━━━━━━━━━━━━━━━━━━━━━━━━\u001b[0m \u001b[32m53.1/53.1 kB\u001b[0m \u001b[31m6.8 MB/s\u001b[0m eta \u001b[36m0:00:00\u001b[0m\n",
            "\u001b[?25hCollecting janome (from flair->textattack)\n",
            "  Downloading Janome-0.4.2-py2.py3-none-any.whl (19.7 MB)\n",
            "\u001b[2K     \u001b[90m━━━━━━━━━━━━━━━━━━━━━━━━━━━━━━━━━━━━━━━━\u001b[0m \u001b[32m19.7/19.7 MB\u001b[0m \u001b[31m62.6 MB/s\u001b[0m eta \u001b[36m0:00:00\u001b[0m\n",
            "\u001b[?25hCollecting gdown==4.4.0 (from flair->textattack)\n",
            "  Downloading gdown-4.4.0.tar.gz (14 kB)\n",
            "  Installing build dependencies ... \u001b[?25l\u001b[?25hdone\n",
            "  Getting requirements to build wheel ... \u001b[?25l\u001b[?25hdone\n",
            "  Preparing metadata (pyproject.toml) ... \u001b[?25l\u001b[?25hdone\n",
            "Collecting conllu>=4.0 (from flair->textattack)\n",
            "  Downloading conllu-4.5.3-py2.py3-none-any.whl (16 kB)\n",
            "Collecting wikipedia-api (from flair->textattack)\n",
            "  Downloading Wikipedia_API-0.5.8-py3-none-any.whl (13 kB)\n",
            "Collecting pptree (from flair->textattack)\n",
            "  Downloading pptree-3.1.tar.gz (3.0 kB)\n",
            "  Preparing metadata (setup.py) ... \u001b[?25l\u001b[?25hdone\n",
            "Collecting pytorch-revgrad (from flair->textattack)\n",
            "  Downloading pytorch_revgrad-0.2.0-py3-none-any.whl (4.6 kB)\n",
            "Collecting transformer-smaller-training-vocab>=0.2.1 (from flair->textattack)\n",
            "  Downloading transformer_smaller_training_vocab-0.2.4-py3-none-any.whl (13 kB)\n",
            "Requirement already satisfied: six in /usr/local/lib/python3.10/dist-packages (from gdown==4.4.0->flair->textattack) (1.16.0)\n",
            "Requirement already satisfied: beautifulsoup4 in /usr/local/lib/python3.10/dist-packages (from gdown==4.4.0->flair->textattack) (4.11.2)\n",
            "Requirement already satisfied: joblib in /usr/local/lib/python3.10/dist-packages (from nltk->textattack) (1.2.0)\n",
            "Collecting docopt>=0.6.2 (from num2words->textattack)\n",
            "  Downloading docopt-0.6.2.tar.gz (25 kB)\n",
            "  Preparing metadata (setup.py) ... \u001b[?25l\u001b[?25hdone\n",
            "Collecting anytree (from OpenHowNet->textattack)\n",
            "  Downloading anytree-2.8.0-py2.py3-none-any.whl (41 kB)\n",
            "\u001b[2K     \u001b[90m━━━━━━━━━━━━━━━━━━━━━━━━━━━━━━━━━━━━━━━━\u001b[0m \u001b[32m41.7/41.7 kB\u001b[0m \u001b[31m5.3 MB/s\u001b[0m eta \u001b[36m0:00:00\u001b[0m\n",
            "\u001b[?25hRequirement already satisfied: setuptools in /usr/local/lib/python3.10/dist-packages (from OpenHowNet->textattack) (67.7.2)\n",
            "Collecting sentencepiece (from bpemb>=0.3.2->flair->textattack)\n",
            "  Downloading sentencepiece-0.1.99-cp310-cp310-manylinux_2_17_x86_64.manylinux2014_x86_64.whl (1.3 MB)\n",
            "\u001b[2K     \u001b[90m━━━━━━━━━━━━━━━━━━━━━━━━━━━━━━━━━━━━━━━━\u001b[0m \u001b[32m1.3/1.3 MB\u001b[0m \u001b[31m19.8 MB/s\u001b[0m eta \u001b[36m0:00:00\u001b[0m\n",
            "\u001b[?25hRequirement already satisfied: wrapt<2,>=1.10 in /usr/local/lib/python3.10/dist-packages (from deprecated>=1.2.4->flair->textattack) (1.14.1)\n",
            "Requirement already satisfied: attrs>=17.3.0 in /usr/local/lib/python3.10/dist-packages (from aiohttp->datasets==2.4.0->textattack) (23.1.0)\n",
            "Requirement already satisfied: charset-normalizer<4.0,>=2.0 in /usr/local/lib/python3.10/dist-packages (from aiohttp->datasets==2.4.0->textattack) (2.0.12)\n",
            "Collecting multidict<7.0,>=4.5 (from aiohttp->datasets==2.4.0->textattack)\n",
            "  Downloading multidict-6.0.4-cp310-cp310-manylinux_2_17_x86_64.manylinux2014_x86_64.whl (114 kB)\n",
            "\u001b[2K     \u001b[90m━━━━━━━━━━━━━━━━━━━━━━━━━━━━━━━━━━━━━━\u001b[0m \u001b[32m114.5/114.5 kB\u001b[0m \u001b[31m16.4 MB/s\u001b[0m eta \u001b[36m0:00:00\u001b[0m\n",
            "\u001b[?25hCollecting async-timeout<5.0,>=4.0.0a3 (from aiohttp->datasets==2.4.0->textattack)\n",
            "  Downloading async_timeout-4.0.2-py3-none-any.whl (5.8 kB)\n",
            "Collecting yarl<2.0,>=1.0 (from aiohttp->datasets==2.4.0->textattack)\n",
            "  Downloading yarl-1.9.2-cp310-cp310-manylinux_2_17_x86_64.manylinux2014_x86_64.whl (268 kB)\n",
            "\u001b[2K     \u001b[90m━━━━━━━━━━━━━━━━━━━━━━━━━━━━━━━━━━━━━━\u001b[0m \u001b[32m268.8/268.8 kB\u001b[0m \u001b[31m30.0 MB/s\u001b[0m eta \u001b[36m0:00:00\u001b[0m\n",
            "\u001b[?25hCollecting frozenlist>=1.1.1 (from aiohttp->datasets==2.4.0->textattack)\n",
            "  Downloading frozenlist-1.3.3-cp310-cp310-manylinux_2_5_x86_64.manylinux1_x86_64.manylinux_2_17_x86_64.manylinux2014_x86_64.whl (149 kB)\n",
            "\u001b[2K     \u001b[90m━━━━━━━━━━━━━━━━━━━━━━━━━━━━━━━━━━━━━━\u001b[0m \u001b[32m149.6/149.6 kB\u001b[0m \u001b[31m16.9 MB/s\u001b[0m eta \u001b[36m0:00:00\u001b[0m\n",
            "\u001b[?25hCollecting aiosignal>=1.1.2 (from aiohttp->datasets==2.4.0->textattack)\n",
            "  Downloading aiosignal-1.3.1-py3-none-any.whl (7.6 kB)\n",
            "Requirement already satisfied: smart-open>=1.8.1 in /usr/local/lib/python3.10/dist-packages (from gensim>=3.8.0->flair->textattack) (6.3.0)\n",
            "Requirement already satisfied: future in /usr/local/lib/python3.10/dist-packages (from hyperopt>=0.2.7->flair->textattack) (0.18.3)\n",
            "Requirement already satisfied: cloudpickle in /usr/local/lib/python3.10/dist-packages (from hyperopt>=0.2.7->flair->textattack) (2.2.1)\n",
            "Requirement already satisfied: py4j in /usr/local/lib/python3.10/dist-packages (from hyperopt>=0.2.7->flair->textattack) (0.10.9.7)\n",
            "Requirement already satisfied: contourpy>=1.0.1 in /usr/local/lib/python3.10/dist-packages (from matplotlib->bert-score>=0.3.5->textattack) (1.1.0)\n",
            "Requirement already satisfied: cycler>=0.10 in /usr/local/lib/python3.10/dist-packages (from matplotlib->bert-score>=0.3.5->textattack) (0.11.0)\n",
            "Requirement already satisfied: fonttools>=4.22.0 in /usr/local/lib/python3.10/dist-packages (from matplotlib->bert-score>=0.3.5->textattack) (4.40.0)\n",
            "Requirement already satisfied: kiwisolver>=1.0.1 in /usr/local/lib/python3.10/dist-packages (from matplotlib->bert-score>=0.3.5->textattack) (1.4.4)\n",
            "Requirement already satisfied: pillow>=6.2.0 in /usr/local/lib/python3.10/dist-packages (from matplotlib->bert-score>=0.3.5->textattack) (8.4.0)\n",
            "Requirement already satisfied: pyparsing>=2.3.1 in /usr/local/lib/python3.10/dist-packages (from matplotlib->bert-score>=0.3.5->textattack) (3.1.0)\n",
            "Requirement already satisfied: urllib3<1.27,>=1.21.1 in /usr/local/lib/python3.10/dist-packages (from requests>=2.19.0->datasets==2.4.0->textattack) (1.26.16)\n",
            "Requirement already satisfied: certifi>=2017.4.17 in /usr/local/lib/python3.10/dist-packages (from requests>=2.19.0->datasets==2.4.0->textattack) (2023.5.7)\n",
            "Requirement already satisfied: idna<4,>=2.5 in /usr/local/lib/python3.10/dist-packages (from requests>=2.19.0->datasets==2.4.0->textattack) (3.4)\n",
            "Requirement already satisfied: threadpoolctl>=2.0.0 in /usr/local/lib/python3.10/dist-packages (from scikit-learn>=0.21.3->flair->textattack) (3.1.0)\n",
            "Requirement already satisfied: protobuf<=3.20.3 in /usr/local/lib/python3.10/dist-packages (from transformers>=4.21.0->textattack) (3.20.3)\n",
            "Collecting botocore<1.30.0,>=1.29.160 (from boto3->flair->textattack)\n",
            "  Downloading botocore-1.29.160-py3-none-any.whl (10.9 MB)\n",
            "\u001b[2K     \u001b[90m━━━━━━━━━━━━━━━━━━━━━━━━━━━━━━━━━━━━━━━━\u001b[0m \u001b[32m10.9/10.9 MB\u001b[0m \u001b[31m90.7 MB/s\u001b[0m eta \u001b[36m0:00:00\u001b[0m\n",
            "\u001b[?25hCollecting jmespath<2.0.0,>=0.7.1 (from boto3->flair->textattack)\n",
            "  Downloading jmespath-1.0.1-py3-none-any.whl (20 kB)\n",
            "Collecting s3transfer<0.7.0,>=0.6.0 (from boto3->flair->textattack)\n",
            "  Downloading s3transfer-0.6.1-py3-none-any.whl (79 kB)\n",
            "\u001b[2K     \u001b[90m━━━━━━━━━━━━━━━━━━━━━━━━━━━━━━━━━━━━━━━━\u001b[0m \u001b[32m79.8/79.8 kB\u001b[0m \u001b[31m11.6 MB/s\u001b[0m eta \u001b[36m0:00:00\u001b[0m\n",
            "\u001b[?25hRequirement already satisfied: wcwidth>=0.2.5 in /usr/local/lib/python3.10/dist-packages (from ftfy->flair->textattack) (0.2.6)\n",
            "Requirement already satisfied: MarkupSafe>=2.0 in /usr/local/lib/python3.10/dist-packages (from jinja2->torch!=1.8,>=1.7.0->textattack) (2.1.3)\n",
            "INFO: pip is looking at multiple versions of multiprocess to determine which version is compatible with other requirements. This could take a while.\n",
            "Collecting multiprocess (from datasets==2.4.0->textattack)\n",
            "  Downloading multiprocess-0.70.13-py310-none-any.whl (133 kB)\n",
            "\u001b[2K     \u001b[90m━━━━━━━━━━━━━━━━━━━━━━━━━━━━━━━━━━━━━━\u001b[0m \u001b[32m133.1/133.1 kB\u001b[0m \u001b[31m17.7 MB/s\u001b[0m eta \u001b[36m0:00:00\u001b[0m\n",
            "\u001b[?25hRequirement already satisfied: mpmath>=0.19 in /usr/local/lib/python3.10/dist-packages (from sympy->torch!=1.8,>=1.7.0->textattack) (1.3.0)\n",
            "Collecting accelerate>=0.20.2 (from transformers>=4.21.0->textattack)\n",
            "  Downloading accelerate-0.20.3-py3-none-any.whl (227 kB)\n",
            "\u001b[2K     \u001b[90m━━━━━━━━━━━━━━━━━━━━━━━━━━━━━━━━━━━━━━\u001b[0m \u001b[32m227.6/227.6 kB\u001b[0m \u001b[31m27.0 MB/s\u001b[0m eta \u001b[36m0:00:00\u001b[0m\n",
            "\u001b[?25hRequirement already satisfied: soupsieve>1.2 in /usr/local/lib/python3.10/dist-packages (from beautifulsoup4->gdown==4.4.0->flair->textattack) (2.4.1)\n",
            "Requirement already satisfied: psutil in /usr/local/lib/python3.10/dist-packages (from accelerate>=0.20.2->transformers>=4.21.0->textattack) (5.9.5)\n",
            "Building wheels for collected packages: pinyin, gdown, mpld3, pycld2, word2number, docopt, sqlitedict, langdetect, pptree\n",
            "  Building wheel for pinyin (setup.py) ... \u001b[?25l\u001b[?25hdone\n",
            "  Created wheel for pinyin: filename=pinyin-0.4.0-py3-none-any.whl size=3630476 sha256=d318d4dbab6bdf20446dc2a51b4d80ec39ce9c28359a2b0d2b521f4b7a6ff774\n",
            "  Stored in directory: /root/.cache/pip/wheels/33/38/af/616fc6f154aa5bae65a1da12b22d79943434269f0468ff9b3f\n",
            "  Building wheel for gdown (pyproject.toml) ... \u001b[?25l\u001b[?25hdone\n",
            "  Created wheel for gdown: filename=gdown-4.4.0-py3-none-any.whl size=14759 sha256=9480c39e7cf883ccbcee84d82c14be89225e26a69ea966c682f0bf770bdb0285\n",
            "  Stored in directory: /root/.cache/pip/wheels/03/0b/3f/6ddf67a417a5b400b213b0bb772a50276c199a386b12c06bfc\n",
            "  Building wheel for mpld3 (setup.py) ... \u001b[?25l\u001b[?25hdone\n",
            "  Created wheel for mpld3: filename=mpld3-0.3-py3-none-any.whl size=116685 sha256=e3abc6139d83adfed05540d6527fe855e21cf78a1ab103ddaa780ccc041bb5a1\n",
            "  Stored in directory: /root/.cache/pip/wheels/9c/92/f7/45d9aac5dcfb1c2a1761a272365599cc7ba1050ce211a3fd9a\n",
            "  Building wheel for pycld2 (setup.py) ... \u001b[?25l\u001b[?25hdone\n",
            "  Created wheel for pycld2: filename=pycld2-0.41-cp310-cp310-linux_x86_64.whl size=9915791 sha256=108445bf66d9535d94294061241079bd5c46505f3c2b92f56d3dc429aab74010\n",
            "  Stored in directory: /root/.cache/pip/wheels/be/81/31/240c89c845e008a93d98542325270007de595bfd356eb0b06c\n",
            "  Building wheel for word2number (setup.py) ... \u001b[?25l\u001b[?25hdone\n",
            "  Created wheel for word2number: filename=word2number-1.1-py3-none-any.whl size=5569 sha256=9c4b4f42d45ca7798133b02b1745cf9d39fd0bc5137f4fcfc1664628ab1a91bc\n",
            "  Stored in directory: /root/.cache/pip/wheels/84/ff/26/d3cfbd971e96c5aa3737ecfced81628830d7359b55fbb8ca3b\n",
            "  Building wheel for docopt (setup.py) ... \u001b[?25l\u001b[?25hdone\n",
            "  Created wheel for docopt: filename=docopt-0.6.2-py2.py3-none-any.whl size=13707 sha256=074e355c33cc49180452363d428e2fea007cfffdbeb470300ab2ef3b794625b1\n",
            "  Stored in directory: /root/.cache/pip/wheels/fc/ab/d4/5da2067ac95b36618c629a5f93f809425700506f72c9732fac\n",
            "  Building wheel for sqlitedict (setup.py) ... \u001b[?25l\u001b[?25hdone\n",
            "  Created wheel for sqlitedict: filename=sqlitedict-2.1.0-py3-none-any.whl size=16863 sha256=6388e41816dd75c948a143fffe87b3dfcfe30d64b3e22ee256fcfec87fc4def0\n",
            "  Stored in directory: /root/.cache/pip/wheels/79/d6/e7/304e0e6cb2221022c26d8161f7c23cd4f259a9e41e8bbcfabd\n",
            "  Building wheel for langdetect (setup.py) ... \u001b[?25l\u001b[?25hdone\n",
            "  Created wheel for langdetect: filename=langdetect-1.0.9-py3-none-any.whl size=993224 sha256=e5d48e5c41e619ba5ecbc4e7903b1651de9fa99002ea0fb2f0062164be859955\n",
            "  Stored in directory: /root/.cache/pip/wheels/95/03/7d/59ea870c70ce4e5a370638b5462a7711ab78fba2f655d05106\n",
            "  Building wheel for pptree (setup.py) ... \u001b[?25l\u001b[?25hdone\n",
            "  Created wheel for pptree: filename=pptree-3.1-py3-none-any.whl size=4609 sha256=916e9b6970d248ea54cee2cf477372f9ba2e97ac8bdec19b8b8d09d3412ad5ab\n",
            "  Stored in directory: /root/.cache/pip/wheels/9f/b6/0e/6f26eb9e6eb53ff2107a7888d72b5a6a597593956113037828\n",
            "Successfully built pinyin gdown mpld3 pycld2 word2number docopt sqlitedict langdetect pptree\n",
            "Installing collected packages: word2number, tokenizers, sqlitedict, sentencepiece, safetensors, pycld2, pptree, pinyin, mpld3, lru-dict, janome, docopt, xxhash, terminaltables, segtok, num2words, multidict, lemminflect, langdetect, jmespath, ftfy, frozenlist, dill, deprecated, conllu, click, async-timeout, anytree, yarl, wikipedia-api, responses, OpenHowNet, multiprocess, language-tool-python, huggingface-hub, botocore, aiosignal, transformers, s3transfer, gdown, bpemb, aiohttp, boto3, datasets, accelerate, transformer-smaller-training-vocab, pytorch-revgrad, flair, bert-score, textattack\n",
            "  Attempting uninstall: click\n",
            "    Found existing installation: click 8.1.3\n",
            "    Uninstalling click-8.1.3:\n",
            "      Successfully uninstalled click-8.1.3\n",
            "  Attempting uninstall: gdown\n",
            "    Found existing installation: gdown 4.6.6\n",
            "    Uninstalling gdown-4.6.6:\n",
            "      Successfully uninstalled gdown-4.6.6\n",
            "Successfully installed OpenHowNet-2.0 accelerate-0.20.3 aiohttp-3.8.4 aiosignal-1.3.1 anytree-2.8.0 async-timeout-4.0.2 bert-score-0.3.13 boto3-1.26.160 botocore-1.29.160 bpemb-0.3.4 click-8.0.4 conllu-4.5.3 datasets-2.4.0 deprecated-1.2.14 dill-0.3.5.1 docopt-0.6.2 flair-0.12.2 frozenlist-1.3.3 ftfy-6.1.1 gdown-4.4.0 huggingface-hub-0.15.1 janome-0.4.2 jmespath-1.0.1 langdetect-1.0.9 language-tool-python-2.7.1 lemminflect-0.2.3 lru-dict-1.2.0 mpld3-0.3 multidict-6.0.4 multiprocess-0.70.13 num2words-0.5.12 pinyin-0.4.0 pptree-3.1 pycld2-0.41 pytorch-revgrad-0.2.0 responses-0.18.0 s3transfer-0.6.1 safetensors-0.3.1 segtok-1.5.11 sentencepiece-0.1.99 sqlitedict-2.1.0 terminaltables-3.1.10 textattack-0.3.8 tokenizers-0.13.3 transformer-smaller-training-vocab-0.2.4 transformers-4.30.2 wikipedia-api-0.5.8 word2number-1.1 xxhash-3.2.0 yarl-1.9.2\n"
          ]
        }
      ]
    },
    {
      "cell_type": "code",
      "source": [
        "from textattack.augmentation import EasyDataAugmenter\n",
        "#from textattack.augmentation import CLAREAugmenter"
      ],
      "metadata": {
        "id": "qqcNUt5biCVG",
        "colab": {
          "base_uri": "https://localhost:8080/"
        },
        "outputId": "9c3e867a-77f2-4d61-d279-69f2c9321085"
      },
      "execution_count": null,
      "outputs": [
        {
          "output_type": "stream",
          "name": "stderr",
          "text": [
            "textattack: Updating TextAttack package dependencies.\n",
            "textattack: Downloading NLTK required packages.\n",
            "[nltk_data] Downloading package averaged_perceptron_tagger to\n",
            "[nltk_data]     /root/nltk_data...\n",
            "[nltk_data]   Unzipping taggers/averaged_perceptron_tagger.zip.\n",
            "[nltk_data] Downloading package stopwords to /root/nltk_data...\n",
            "[nltk_data]   Unzipping corpora/stopwords.zip.\n",
            "[nltk_data] Downloading package omw to /root/nltk_data...\n",
            "[nltk_data] Downloading package universal_tagset to /root/nltk_data...\n",
            "[nltk_data]   Unzipping taggers/universal_tagset.zip.\n",
            "[nltk_data] Downloading package wordnet to /root/nltk_data...\n",
            "[nltk_data] Downloading package punkt to /root/nltk_data...\n",
            "[nltk_data]   Unzipping tokenizers/punkt.zip.\n"
          ]
        }
      ]
    },
    {
      "cell_type": "code",
      "source": [
        "train_df.reset_index(level=None, drop=True, inplace=True, col_level=0, col_fill='')\n",
        "train_df"
      ],
      "metadata": {
        "colab": {
          "base_uri": "https://localhost:8080/",
          "height": 537
        },
        "id": "nR4dF1fziFBn",
        "outputId": "69036920-2e21-4e7f-a6ee-ef388f00928d"
      },
      "execution_count": null,
      "outputs": [
        {
          "output_type": "execute_result",
          "data": {
            "text/plain": [
              "                                                   Text Annotations  \\\n",
              "0                                    Devdas kapikad no1    Positive   \n",
              "1                                        ajji eer super    Positive   \n",
              "2                                  Bega 2 nd part padle     Neutral   \n",
              "3      Tulu panda enku masth ista i love tulu  tulunadu    Positive   \n",
              "4     Vlog ista apundu masth and ir patherniya kendr...    Positive   \n",
              "...                                                 ...         ...   \n",
              "6259  SUPERB  ALL ARE ACTING....AMAZING...BHARI KUSH...    Positive   \n",
              "6260                            Bolar anna  sooooopar..    Positive   \n",
              "6261  .. question onji..\\nKai yereeeg mugiyondh ethin🥺😥     Neutral   \n",
              "6262       Extra pukuli ethenakulu... Ayeg korle... Plz    Positive   \n",
              "6263            Mattuda ponne ninna guttu yan tinondene     Neutral   \n",
              "\n",
              "                                         Processed_Text  Is_Eng  Len  \n",
              "0                                     devdas kapikad no    True    1  \n",
              "1                                        ajji eer super    True    1  \n",
              "2                                    bega nd part padle    True    1  \n",
              "3        tulu panda enku masth ista i love tulu tulunad    True    1  \n",
              "4     vlog ista apund masth and eer patherniya kendr...    True    1  \n",
              "...                                                 ...     ...  ...  \n",
              "6259  super all are acting amazing bhari kushi aand ...    True    1  \n",
              "6260                               bolar anna sooooopar    True    1  \n",
              "6261  question onji kai yereeeg mugiyondh ethin plea...    True    1  \n",
              "6262            extra pukilin ethenakulu ayna korle plz    True    1  \n",
              "6263              mattuda ponne eer guttu yan tinondene    True    1  \n",
              "\n",
              "[6264 rows x 5 columns]"
            ],
            "text/html": [
              "\n",
              "  <div id=\"df-51d01236-af36-4465-b03b-2f406c4dc2dd\">\n",
              "    <div class=\"colab-df-container\">\n",
              "      <div>\n",
              "<style scoped>\n",
              "    .dataframe tbody tr th:only-of-type {\n",
              "        vertical-align: middle;\n",
              "    }\n",
              "\n",
              "    .dataframe tbody tr th {\n",
              "        vertical-align: top;\n",
              "    }\n",
              "\n",
              "    .dataframe thead th {\n",
              "        text-align: right;\n",
              "    }\n",
              "</style>\n",
              "<table border=\"1\" class=\"dataframe\">\n",
              "  <thead>\n",
              "    <tr style=\"text-align: right;\">\n",
              "      <th></th>\n",
              "      <th>Text</th>\n",
              "      <th>Annotations</th>\n",
              "      <th>Processed_Text</th>\n",
              "      <th>Is_Eng</th>\n",
              "      <th>Len</th>\n",
              "    </tr>\n",
              "  </thead>\n",
              "  <tbody>\n",
              "    <tr>\n",
              "      <th>0</th>\n",
              "      <td>Devdas kapikad no1</td>\n",
              "      <td>Positive</td>\n",
              "      <td>devdas kapikad no</td>\n",
              "      <td>True</td>\n",
              "      <td>1</td>\n",
              "    </tr>\n",
              "    <tr>\n",
              "      <th>1</th>\n",
              "      <td>ajji eer super</td>\n",
              "      <td>Positive</td>\n",
              "      <td>ajji eer super</td>\n",
              "      <td>True</td>\n",
              "      <td>1</td>\n",
              "    </tr>\n",
              "    <tr>\n",
              "      <th>2</th>\n",
              "      <td>Bega 2 nd part padle</td>\n",
              "      <td>Neutral</td>\n",
              "      <td>bega nd part padle</td>\n",
              "      <td>True</td>\n",
              "      <td>1</td>\n",
              "    </tr>\n",
              "    <tr>\n",
              "      <th>3</th>\n",
              "      <td>Tulu panda enku masth ista i love tulu  tulunadu</td>\n",
              "      <td>Positive</td>\n",
              "      <td>tulu panda enku masth ista i love tulu tulunad</td>\n",
              "      <td>True</td>\n",
              "      <td>1</td>\n",
              "    </tr>\n",
              "    <tr>\n",
              "      <th>4</th>\n",
              "      <td>Vlog ista apundu masth and ir patherniya kendr...</td>\n",
              "      <td>Positive</td>\n",
              "      <td>vlog ista apund masth and eer patherniya kendr...</td>\n",
              "      <td>True</td>\n",
              "      <td>1</td>\n",
              "    </tr>\n",
              "    <tr>\n",
              "      <th>...</th>\n",
              "      <td>...</td>\n",
              "      <td>...</td>\n",
              "      <td>...</td>\n",
              "      <td>...</td>\n",
              "      <td>...</td>\n",
              "    </tr>\n",
              "    <tr>\n",
              "      <th>6259</th>\n",
              "      <td>SUPERB  ALL ARE ACTING....AMAZING...BHARI KUSH...</td>\n",
              "      <td>Positive</td>\n",
              "      <td>super all are acting amazing bhari kushi aand ...</td>\n",
              "      <td>True</td>\n",
              "      <td>1</td>\n",
              "    </tr>\n",
              "    <tr>\n",
              "      <th>6260</th>\n",
              "      <td>Bolar anna  sooooopar..</td>\n",
              "      <td>Positive</td>\n",
              "      <td>bolar anna sooooopar</td>\n",
              "      <td>True</td>\n",
              "      <td>1</td>\n",
              "    </tr>\n",
              "    <tr>\n",
              "      <th>6261</th>\n",
              "      <td>.. question onji..\\nKai yereeeg mugiyondh ethin🥺😥</td>\n",
              "      <td>Neutral</td>\n",
              "      <td>question onji kai yereeeg mugiyondh ethin plea...</td>\n",
              "      <td>True</td>\n",
              "      <td>1</td>\n",
              "    </tr>\n",
              "    <tr>\n",
              "      <th>6262</th>\n",
              "      <td>Extra pukuli ethenakulu... Ayeg korle... Plz</td>\n",
              "      <td>Positive</td>\n",
              "      <td>extra pukilin ethenakulu ayna korle plz</td>\n",
              "      <td>True</td>\n",
              "      <td>1</td>\n",
              "    </tr>\n",
              "    <tr>\n",
              "      <th>6263</th>\n",
              "      <td>Mattuda ponne ninna guttu yan tinondene</td>\n",
              "      <td>Neutral</td>\n",
              "      <td>mattuda ponne eer guttu yan tinondene</td>\n",
              "      <td>True</td>\n",
              "      <td>1</td>\n",
              "    </tr>\n",
              "  </tbody>\n",
              "</table>\n",
              "<p>6264 rows × 5 columns</p>\n",
              "</div>\n",
              "      <button class=\"colab-df-convert\" onclick=\"convertToInteractive('df-51d01236-af36-4465-b03b-2f406c4dc2dd')\"\n",
              "              title=\"Convert this dataframe to an interactive table.\"\n",
              "              style=\"display:none;\">\n",
              "        \n",
              "  <svg xmlns=\"http://www.w3.org/2000/svg\" height=\"24px\"viewBox=\"0 0 24 24\"\n",
              "       width=\"24px\">\n",
              "    <path d=\"M0 0h24v24H0V0z\" fill=\"none\"/>\n",
              "    <path d=\"M18.56 5.44l.94 2.06.94-2.06 2.06-.94-2.06-.94-.94-2.06-.94 2.06-2.06.94zm-11 1L8.5 8.5l.94-2.06 2.06-.94-2.06-.94L8.5 2.5l-.94 2.06-2.06.94zm10 10l.94 2.06.94-2.06 2.06-.94-2.06-.94-.94-2.06-.94 2.06-2.06.94z\"/><path d=\"M17.41 7.96l-1.37-1.37c-.4-.4-.92-.59-1.43-.59-.52 0-1.04.2-1.43.59L10.3 9.45l-7.72 7.72c-.78.78-.78 2.05 0 2.83L4 21.41c.39.39.9.59 1.41.59.51 0 1.02-.2 1.41-.59l7.78-7.78 2.81-2.81c.8-.78.8-2.07 0-2.86zM5.41 20L4 18.59l7.72-7.72 1.47 1.35L5.41 20z\"/>\n",
              "  </svg>\n",
              "      </button>\n",
              "      \n",
              "  <style>\n",
              "    .colab-df-container {\n",
              "      display:flex;\n",
              "      flex-wrap:wrap;\n",
              "      gap: 12px;\n",
              "    }\n",
              "\n",
              "    .colab-df-convert {\n",
              "      background-color: #E8F0FE;\n",
              "      border: none;\n",
              "      border-radius: 50%;\n",
              "      cursor: pointer;\n",
              "      display: none;\n",
              "      fill: #1967D2;\n",
              "      height: 32px;\n",
              "      padding: 0 0 0 0;\n",
              "      width: 32px;\n",
              "    }\n",
              "\n",
              "    .colab-df-convert:hover {\n",
              "      background-color: #E2EBFA;\n",
              "      box-shadow: 0px 1px 2px rgba(60, 64, 67, 0.3), 0px 1px 3px 1px rgba(60, 64, 67, 0.15);\n",
              "      fill: #174EA6;\n",
              "    }\n",
              "\n",
              "    [theme=dark] .colab-df-convert {\n",
              "      background-color: #3B4455;\n",
              "      fill: #D2E3FC;\n",
              "    }\n",
              "\n",
              "    [theme=dark] .colab-df-convert:hover {\n",
              "      background-color: #434B5C;\n",
              "      box-shadow: 0px 1px 3px 1px rgba(0, 0, 0, 0.15);\n",
              "      filter: drop-shadow(0px 1px 2px rgba(0, 0, 0, 0.3));\n",
              "      fill: #FFFFFF;\n",
              "    }\n",
              "  </style>\n",
              "\n",
              "      <script>\n",
              "        const buttonEl =\n",
              "          document.querySelector('#df-51d01236-af36-4465-b03b-2f406c4dc2dd button.colab-df-convert');\n",
              "        buttonEl.style.display =\n",
              "          google.colab.kernel.accessAllowed ? 'block' : 'none';\n",
              "\n",
              "        async function convertToInteractive(key) {\n",
              "          const element = document.querySelector('#df-51d01236-af36-4465-b03b-2f406c4dc2dd');\n",
              "          const dataTable =\n",
              "            await google.colab.kernel.invokeFunction('convertToInteractive',\n",
              "                                                     [key], {});\n",
              "          if (!dataTable) return;\n",
              "\n",
              "          const docLinkHtml = 'Like what you see? Visit the ' +\n",
              "            '<a target=\"_blank\" href=https://colab.research.google.com/notebooks/data_table.ipynb>data table notebook</a>'\n",
              "            + ' to learn more about interactive tables.';\n",
              "          element.innerHTML = '';\n",
              "          dataTable['output_type'] = 'display_data';\n",
              "          await google.colab.output.renderOutput(dataTable, element);\n",
              "          const docLink = document.createElement('div');\n",
              "          docLink.innerHTML = docLinkHtml;\n",
              "          element.appendChild(docLink);\n",
              "        }\n",
              "      </script>\n",
              "    </div>\n",
              "  </div>\n",
              "  "
            ]
          },
          "metadata": {},
          "execution_count": 28
        }
      ]
    },
    {
      "cell_type": "code",
      "source": [
        "def augment_text(df):\n",
        "  aug_text = []\n",
        "  eda_aug = EasyDataAugmenter()\n",
        "  #eda_aug = CLAREAugmenter()\n",
        "  for i, row in df.iterrows():\n",
        "      mod = eda_aug.augment(row['Processed_Text'])\n",
        "      annotation = row['Annotations']\n",
        "\n",
        "      for j in mod:\n",
        "        aug_text.append([j, annotation])\n",
        "\n",
        "  return aug_text\n",
        "\n",
        "aug_text = (augment_text(train_df))"
      ],
      "metadata": {
        "colab": {
          "base_uri": "https://localhost:8080/"
        },
        "id": "zW7IQuhTiGyE",
        "outputId": "03760792-7252-4e47-c349-f7ca64fbed4a"
      },
      "execution_count": null,
      "outputs": [
        {
          "output_type": "stream",
          "name": "stderr",
          "text": [
            "[nltk_data] Downloading package omw-1.4 to /root/nltk_data...\n"
          ]
        }
      ]
    },
    {
      "cell_type": "code",
      "source": [
        "len(aug_text)"
      ],
      "metadata": {
        "colab": {
          "base_uri": "https://localhost:8080/"
        },
        "id": "3QXLK7djiIVI",
        "outputId": "d1247b61-7387-48ca-8398-c9b1a89f72f0"
      },
      "execution_count": null,
      "outputs": [
        {
          "output_type": "execute_result",
          "data": {
            "text/plain": [
              "23787"
            ]
          },
          "metadata": {},
          "execution_count": 30
        }
      ]
    },
    {
      "cell_type": "code",
      "source": [
        "augmented_train_df = pd.DataFrame(aug_text, columns = ['Processed_Text', 'Annotations'])\n",
        "augmented_train_df"
      ],
      "metadata": {
        "colab": {
          "base_uri": "https://localhost:8080/",
          "height": 424
        },
        "id": "iOnuHDKRiJ_g",
        "outputId": "4e16777e-acdf-4be7-fec8-45f796b9767e"
      },
      "execution_count": null,
      "outputs": [
        {
          "output_type": "execute_result",
          "data": {
            "text/plain": [
              "                                Processed_Text Annotations\n",
              "0                            devdas kapikad no    Positive\n",
              "1                   devdas kapikad nobelium no    Positive\n",
              "2                            kapikad devdas no    Positive\n",
              "3                                   kapikad no    Positive\n",
              "4                      ajji eer superintendent    Positive\n",
              "...                                        ...         ...\n",
              "23782          extra ethenakulu ayna korle plz    Positive\n",
              "23783  extra pukilin ethenakulu ayna korle plz    Positive\n",
              "23784    mattuda ponne eer tinondene yan guttu     Neutral\n",
              "23785          mattuda eer guttu yan tinondene     Neutral\n",
              "23786    mattuda ponne eer guttu yan tinondene     Neutral\n",
              "\n",
              "[23787 rows x 2 columns]"
            ],
            "text/html": [
              "\n",
              "  <div id=\"df-859d1618-247f-476b-bffc-5af7c2cec94a\">\n",
              "    <div class=\"colab-df-container\">\n",
              "      <div>\n",
              "<style scoped>\n",
              "    .dataframe tbody tr th:only-of-type {\n",
              "        vertical-align: middle;\n",
              "    }\n",
              "\n",
              "    .dataframe tbody tr th {\n",
              "        vertical-align: top;\n",
              "    }\n",
              "\n",
              "    .dataframe thead th {\n",
              "        text-align: right;\n",
              "    }\n",
              "</style>\n",
              "<table border=\"1\" class=\"dataframe\">\n",
              "  <thead>\n",
              "    <tr style=\"text-align: right;\">\n",
              "      <th></th>\n",
              "      <th>Processed_Text</th>\n",
              "      <th>Annotations</th>\n",
              "    </tr>\n",
              "  </thead>\n",
              "  <tbody>\n",
              "    <tr>\n",
              "      <th>0</th>\n",
              "      <td>devdas kapikad no</td>\n",
              "      <td>Positive</td>\n",
              "    </tr>\n",
              "    <tr>\n",
              "      <th>1</th>\n",
              "      <td>devdas kapikad nobelium no</td>\n",
              "      <td>Positive</td>\n",
              "    </tr>\n",
              "    <tr>\n",
              "      <th>2</th>\n",
              "      <td>kapikad devdas no</td>\n",
              "      <td>Positive</td>\n",
              "    </tr>\n",
              "    <tr>\n",
              "      <th>3</th>\n",
              "      <td>kapikad no</td>\n",
              "      <td>Positive</td>\n",
              "    </tr>\n",
              "    <tr>\n",
              "      <th>4</th>\n",
              "      <td>ajji eer superintendent</td>\n",
              "      <td>Positive</td>\n",
              "    </tr>\n",
              "    <tr>\n",
              "      <th>...</th>\n",
              "      <td>...</td>\n",
              "      <td>...</td>\n",
              "    </tr>\n",
              "    <tr>\n",
              "      <th>23782</th>\n",
              "      <td>extra ethenakulu ayna korle plz</td>\n",
              "      <td>Positive</td>\n",
              "    </tr>\n",
              "    <tr>\n",
              "      <th>23783</th>\n",
              "      <td>extra pukilin ethenakulu ayna korle plz</td>\n",
              "      <td>Positive</td>\n",
              "    </tr>\n",
              "    <tr>\n",
              "      <th>23784</th>\n",
              "      <td>mattuda ponne eer tinondene yan guttu</td>\n",
              "      <td>Neutral</td>\n",
              "    </tr>\n",
              "    <tr>\n",
              "      <th>23785</th>\n",
              "      <td>mattuda eer guttu yan tinondene</td>\n",
              "      <td>Neutral</td>\n",
              "    </tr>\n",
              "    <tr>\n",
              "      <th>23786</th>\n",
              "      <td>mattuda ponne eer guttu yan tinondene</td>\n",
              "      <td>Neutral</td>\n",
              "    </tr>\n",
              "  </tbody>\n",
              "</table>\n",
              "<p>23787 rows × 2 columns</p>\n",
              "</div>\n",
              "      <button class=\"colab-df-convert\" onclick=\"convertToInteractive('df-859d1618-247f-476b-bffc-5af7c2cec94a')\"\n",
              "              title=\"Convert this dataframe to an interactive table.\"\n",
              "              style=\"display:none;\">\n",
              "        \n",
              "  <svg xmlns=\"http://www.w3.org/2000/svg\" height=\"24px\"viewBox=\"0 0 24 24\"\n",
              "       width=\"24px\">\n",
              "    <path d=\"M0 0h24v24H0V0z\" fill=\"none\"/>\n",
              "    <path d=\"M18.56 5.44l.94 2.06.94-2.06 2.06-.94-2.06-.94-.94-2.06-.94 2.06-2.06.94zm-11 1L8.5 8.5l.94-2.06 2.06-.94-2.06-.94L8.5 2.5l-.94 2.06-2.06.94zm10 10l.94 2.06.94-2.06 2.06-.94-2.06-.94-.94-2.06-.94 2.06-2.06.94z\"/><path d=\"M17.41 7.96l-1.37-1.37c-.4-.4-.92-.59-1.43-.59-.52 0-1.04.2-1.43.59L10.3 9.45l-7.72 7.72c-.78.78-.78 2.05 0 2.83L4 21.41c.39.39.9.59 1.41.59.51 0 1.02-.2 1.41-.59l7.78-7.78 2.81-2.81c.8-.78.8-2.07 0-2.86zM5.41 20L4 18.59l7.72-7.72 1.47 1.35L5.41 20z\"/>\n",
              "  </svg>\n",
              "      </button>\n",
              "      \n",
              "  <style>\n",
              "    .colab-df-container {\n",
              "      display:flex;\n",
              "      flex-wrap:wrap;\n",
              "      gap: 12px;\n",
              "    }\n",
              "\n",
              "    .colab-df-convert {\n",
              "      background-color: #E8F0FE;\n",
              "      border: none;\n",
              "      border-radius: 50%;\n",
              "      cursor: pointer;\n",
              "      display: none;\n",
              "      fill: #1967D2;\n",
              "      height: 32px;\n",
              "      padding: 0 0 0 0;\n",
              "      width: 32px;\n",
              "    }\n",
              "\n",
              "    .colab-df-convert:hover {\n",
              "      background-color: #E2EBFA;\n",
              "      box-shadow: 0px 1px 2px rgba(60, 64, 67, 0.3), 0px 1px 3px 1px rgba(60, 64, 67, 0.15);\n",
              "      fill: #174EA6;\n",
              "    }\n",
              "\n",
              "    [theme=dark] .colab-df-convert {\n",
              "      background-color: #3B4455;\n",
              "      fill: #D2E3FC;\n",
              "    }\n",
              "\n",
              "    [theme=dark] .colab-df-convert:hover {\n",
              "      background-color: #434B5C;\n",
              "      box-shadow: 0px 1px 3px 1px rgba(0, 0, 0, 0.15);\n",
              "      filter: drop-shadow(0px 1px 2px rgba(0, 0, 0, 0.3));\n",
              "      fill: #FFFFFF;\n",
              "    }\n",
              "  </style>\n",
              "\n",
              "      <script>\n",
              "        const buttonEl =\n",
              "          document.querySelector('#df-859d1618-247f-476b-bffc-5af7c2cec94a button.colab-df-convert');\n",
              "        buttonEl.style.display =\n",
              "          google.colab.kernel.accessAllowed ? 'block' : 'none';\n",
              "\n",
              "        async function convertToInteractive(key) {\n",
              "          const element = document.querySelector('#df-859d1618-247f-476b-bffc-5af7c2cec94a');\n",
              "          const dataTable =\n",
              "            await google.colab.kernel.invokeFunction('convertToInteractive',\n",
              "                                                     [key], {});\n",
              "          if (!dataTable) return;\n",
              "\n",
              "          const docLinkHtml = 'Like what you see? Visit the ' +\n",
              "            '<a target=\"_blank\" href=https://colab.research.google.com/notebooks/data_table.ipynb>data table notebook</a>'\n",
              "            + ' to learn more about interactive tables.';\n",
              "          element.innerHTML = '';\n",
              "          dataTable['output_type'] = 'display_data';\n",
              "          await google.colab.output.renderOutput(dataTable, element);\n",
              "          const docLink = document.createElement('div');\n",
              "          docLink.innerHTML = docLinkHtml;\n",
              "          element.appendChild(docLink);\n",
              "        }\n",
              "      </script>\n",
              "    </div>\n",
              "  </div>\n",
              "  "
            ]
          },
          "metadata": {},
          "execution_count": 31
        }
      ]
    },
    {
      "cell_type": "code",
      "source": [
        "#insert new technique here"
      ],
      "metadata": {
        "id": "U1EWqOEq4h6w"
      },
      "execution_count": null,
      "outputs": []
    },
    {
      "cell_type": "code",
      "source": [
        "X_train, X_test = augmented_train_df['Annotations'], test_df['Annotations']"
      ],
      "metadata": {
        "id": "n-UWmWuS5AhB"
      },
      "execution_count": null,
      "outputs": []
    },
    {
      "cell_type": "code",
      "source": [
        "y_train= le.fit_transform(augmented_train_df['Annotations'])\n",
        "y_train"
      ],
      "metadata": {
        "colab": {
          "base_uri": "https://localhost:8080/"
        },
        "id": "Szy7LDz391v-",
        "outputId": "ef606197-6ea8-484a-e64a-6abf281680bd"
      },
      "execution_count": null,
      "outputs": [
        {
          "output_type": "execute_result",
          "data": {
            "text/plain": [
              "array([3, 3, 3, ..., 2, 2, 2])"
            ]
          },
          "metadata": {},
          "execution_count": 34
        }
      ]
    },
    {
      "cell_type": "code",
      "source": [
        "print(X_train.shape, y_train.shape)"
      ],
      "metadata": {
        "colab": {
          "base_uri": "https://localhost:8080/"
        },
        "id": "-Ah2iDCD56Ib",
        "outputId": "d1b1d959-df42-41fe-a987-b5c8e299de32"
      },
      "execution_count": null,
      "outputs": [
        {
          "output_type": "stream",
          "name": "stdout",
          "text": [
            "(23787,) (23787,)\n"
          ]
        }
      ]
    },
    {
      "cell_type": "code",
      "source": [
        "print(X_test.shape, y_test.shape)"
      ],
      "metadata": {
        "colab": {
          "base_uri": "https://localhost:8080/"
        },
        "id": "8BbO0ccm9tRj",
        "outputId": "2a169b95-409c-46d1-fadb-d577ee417610"
      },
      "execution_count": null,
      "outputs": [
        {
          "output_type": "stream",
          "name": "stdout",
          "text": [
            "(609,) (609,)\n"
          ]
        }
      ]
    },
    {
      "cell_type": "code",
      "source": [
        "y_test"
      ],
      "metadata": {
        "colab": {
          "base_uri": "https://localhost:8080/"
        },
        "id": "BKzLl8k9qDzB",
        "outputId": "2ce5c451-44ba-4c48-b4b4-49ca7ad7dd22"
      },
      "execution_count": null,
      "outputs": [
        {
          "output_type": "execute_result",
          "data": {
            "text/plain": [
              "array([3, 3, 2, 1, 3, 2, 3, 3, 3, 2, 2, 3, 3, 3, 3, 2, 2, 2, 2, 3, 3, 2,\n",
              "       2, 3, 2, 3, 3, 3, 0, 3, 3, 3, 3, 2, 1, 3, 3, 0, 2, 1, 2, 1, 0, 2,\n",
              "       3, 0, 3, 3, 2, 2, 2, 2, 3, 3, 0, 0, 2, 2, 3, 2, 3, 3, 2, 0, 0, 3,\n",
              "       3, 0, 1, 0, 3, 0, 0, 3, 1, 3, 0, 3, 3, 2, 2, 0, 3, 2, 1, 2, 3, 3,\n",
              "       3, 3, 3, 0, 2, 3, 1, 3, 3, 2, 3, 3, 3, 3, 3, 3, 3, 3, 2, 3, 2, 3,\n",
              "       3, 0, 3, 3, 0, 3, 3, 3, 2, 0, 3, 0, 2, 0, 2, 3, 2, 0, 1, 1, 3, 0,\n",
              "       3, 2, 2, 1, 2, 2, 3, 0, 1, 0, 3, 2, 3, 3, 0, 3, 3, 0, 2, 0, 0, 0,\n",
              "       2, 3, 3, 3, 3, 3, 0, 2, 2, 0, 3, 2, 1, 1, 2, 2, 3, 0, 3, 0, 2, 3,\n",
              "       2, 3, 3, 3, 0, 0, 1, 3, 2, 3, 2, 3, 3, 0, 3, 3, 2, 3, 3, 2, 0, 2,\n",
              "       0, 3, 0, 0, 3, 3, 0, 2, 3, 2, 3, 1, 2, 3, 2, 2, 0, 3, 3, 2, 3, 2,\n",
              "       3, 3, 3, 2, 3, 0, 3, 3, 0, 0, 3, 2, 2, 2, 3, 3, 3, 3, 0, 3, 0, 1,\n",
              "       3, 2, 2, 2, 2, 3, 3, 1, 3, 2, 3, 2, 1, 2, 2, 2, 2, 2, 3, 3, 3, 1,\n",
              "       1, 3, 2, 3, 3, 1, 1, 0, 2, 2, 3, 2, 3, 2, 2, 1, 3, 2, 1, 3, 2, 0,\n",
              "       3, 2, 0, 3, 0, 2, 3, 3, 2, 1, 2, 2, 3, 2, 3, 3, 3, 3, 3, 2, 1, 2,\n",
              "       3, 3, 1, 3, 0, 2, 3, 0, 0, 3, 3, 1, 3, 3, 0, 3, 3, 2, 2, 2, 3, 0,\n",
              "       0, 0, 1, 1, 3, 3, 0, 3, 3, 2, 0, 3, 2, 0, 3, 0, 2, 1, 3, 1, 3, 3,\n",
              "       3, 3, 3, 3, 2, 3, 3, 2, 0, 0, 3, 3, 3, 3, 3, 3, 3, 0, 2, 3, 2, 3,\n",
              "       3, 2, 0, 1, 3, 3, 3, 3, 3, 3, 1, 0, 0, 2, 2, 3, 0, 3, 3, 3, 3, 2,\n",
              "       3, 3, 3, 2, 2, 3, 3, 1, 3, 2, 3, 3, 0, 0, 2, 3, 1, 3, 2, 2, 3, 3,\n",
              "       2, 0, 2, 2, 0, 0, 1, 3, 3, 3, 2, 3, 3, 0, 3, 3, 3, 3, 2, 3, 3, 0,\n",
              "       3, 3, 2, 1, 2, 3, 2, 2, 3, 1, 3, 2, 3, 3, 2, 3, 2, 1, 3, 2, 3, 2,\n",
              "       2, 1, 3, 2, 3, 1, 0, 0, 3, 2, 3, 3, 3, 3, 3, 2, 3, 3, 3, 3, 3, 2,\n",
              "       3, 3, 3, 3, 0, 2, 0, 1, 3, 3, 1, 3, 2, 3, 0, 3, 3, 3, 0, 0, 1, 3,\n",
              "       2, 3, 3, 3, 3, 3, 3, 3, 2, 3, 2, 3, 2, 2, 2, 3, 3, 3, 0, 2, 0, 3,\n",
              "       3, 3, 2, 3, 2, 0, 0, 1, 0, 1, 2, 3, 2, 0, 1, 3, 3, 3, 0, 3, 3, 2,\n",
              "       3, 3, 3, 3, 2, 2, 1, 3, 3, 3, 3, 2, 2, 3, 1, 3, 3, 3, 0, 0, 0, 3,\n",
              "       3, 2, 3, 2, 2, 2, 0, 3, 3, 1, 3, 3, 2, 2, 3, 3, 2, 1, 3, 1, 2, 2,\n",
              "       3, 2, 3, 0, 3, 3, 3, 2, 3, 3, 2, 2, 3, 3, 3])"
            ]
          },
          "metadata": {},
          "execution_count": 37
        }
      ]
    },
    {
      "cell_type": "code",
      "source": [
        "sns.countplot(x=y_train)\n",
        "\n",
        "# Add labels to the plot\n",
        "plt.xlabel(\"Category\")\n",
        "plt.ylabel(\"Frequency\")\n",
        "\n",
        "# Display the plot\n",
        "plt.show()"
      ],
      "metadata": {
        "id": "pIcpRyEO-Mr1",
        "colab": {
          "base_uri": "https://localhost:8080/",
          "height": 453
        },
        "outputId": "de6591a7-f9bd-4b75-c92e-09c4a83073ab"
      },
      "execution_count": null,
      "outputs": [
        {
          "output_type": "display_data",
          "data": {
            "text/plain": [
              "<Figure size 640x480 with 1 Axes>"
            ],
            "image/png": "[encoded data removed]"
          },
          "metadata": {}
        }
      ]
    },
    {
      "cell_type": "code",
      "source": [
        "tf_x_aug_train = vectorizer.transform(augmented_train_df['Processed_Text'])\n",
        "y_aug_train = augmented_train_df['Annotations']\n",
        "print(tf_x_train.shape, y_train.shape, tf_x_test.shape, y_test.shape )\n",
        "print(tf_x_aug_train.shape, y_aug_train.shape)"
      ],
      "metadata": {
        "colab": {
          "base_uri": "https://localhost:8080/"
        },
        "id": "zOY5Dze8iLM4",
        "outputId": "41c66492-6ad5-446b-d95f-b13cee047495"
      },
      "execution_count": null,
      "outputs": [
        {
          "output_type": "stream",
          "name": "stdout",
          "text": [
            "(6264, 5000) (23787,) (609, 5000) (609,)\n",
            "(23787, 5000) (23787,)\n"
          ]
        }
      ]
    },
    {
      "cell_type": "code",
      "source": [
        "sns.countplot(x=y_aug_train)\n",
        "\n",
        "# Add labels to the plot\n",
        "plt.xlabel(\"Category\")\n",
        "plt.ylabel(\"Frequency\")\n",
        "\n",
        "# Display the plot\n",
        "plt.show()"
      ],
      "metadata": {
        "colab": {
          "base_uri": "https://localhost:8080/",
          "height": 453
        },
        "id": "ekVxg06AiMti",
        "outputId": "383d43f0-5635-4ffd-c7e2-0b6821fc7336"
      },
      "execution_count": null,
      "outputs": [
        {
          "output_type": "display_data",
          "data": {
            "text/plain": [
              "<Figure size 640x480 with 1 Axes>"
            ],
            "image/png": "[encoded data removed]"
          },
          "metadata": {}
        }
      ]
    },
    {
      "cell_type": "code",
      "source": [
        "smote = SMOTE()\n",
        "X_train_aug_resampled, y_train_aug_resampled = smote.fit_resample(tf_x_aug_train, y_aug_train)\n",
        "print(X_train_aug_resampled.shape, y_train_aug_resampled.shape)\n",
        "\n",
        "sns.countplot(x=y_train_aug_resampled)\n",
        "\n",
        "# Add labels to the plot\n",
        "plt.xlabel(\"Category\")\n",
        "plt.ylabel(\"Frequency\")\n",
        "\n",
        "# Display the plot\n",
        "plt.show()"
      ],
      "metadata": {
        "colab": {
          "base_uri": "https://localhost:8080/",
          "height": 471
        },
        "id": "SAnYlUtFiPW3",
        "outputId": "b16ff133-cdfd-4278-b40d-261f09048d2d"
      },
      "execution_count": null,
      "outputs": [
        {
          "output_type": "stream",
          "name": "stdout",
          "text": [
            "(45988, 5000) (45988,)\n"
          ]
        },
        {
          "output_type": "display_data",
          "data": {
            "text/plain": [
              "<Figure size 640x480 with 1 Axes>"
            ],
            "image/png": "[encoded data removed]"
          },
          "metadata": {}
        }
      ]
    },
    {
      "cell_type": "code",
      "source": [
        "X_train_aug_resampled"
      ],
      "metadata": {
        "colab": {
          "base_uri": "https://localhost:8080/"
        },
        "id": "AXvGO8n6iQ7m",
        "outputId": "0da17d57-f249-4e44-c992-c450f4057b99"
      },
      "execution_count": null,
      "outputs": [
        {
          "output_type": "execute_result",
          "data": {
            "text/plain": [
              "<45988x5000 sparse matrix of type '<class 'numpy.float64'>'\n",
              "\twith 257345 stored elements in Compressed Sparse Row format>"
            ]
          },
          "metadata": {},
          "execution_count": 42
        }
      ]
    },
    {
      "cell_type": "code",
      "source": [
        "y_train_aug_resampled = le.fit_transform(y_train_aug_resampled)\n",
        "y_train_aug_resampled"
      ],
      "metadata": {
        "colab": {
          "base_uri": "https://localhost:8080/"
        },
        "id": "fnMr4eNdiTBU",
        "outputId": "568171f4-e64a-4f6a-f540-4a2bf827fa5a"
      },
      "execution_count": null,
      "outputs": [
        {
          "output_type": "execute_result",
          "data": {
            "text/plain": [
              "array([3, 3, 3, ..., 2, 2, 2])"
            ]
          },
          "metadata": {},
          "execution_count": 43
        }
      ]
    },
    {
      "cell_type": "code",
      "source": [
        "tf_x_test"
      ],
      "metadata": {
        "colab": {
          "base_uri": "https://localhost:8080/"
        },
        "id": "OILCjg9xiU3B",
        "outputId": "fa58bafd-3807-4868-f1a0-0a4b10bc4053"
      },
      "execution_count": null,
      "outputs": [
        {
          "output_type": "execute_result",
          "data": {
            "text/plain": [
              "<609x5000 sparse matrix of type '<class 'numpy.float64'>'\n",
              "\twith 3154 stored elements in Compressed Sparse Row format>"
            ]
          },
          "metadata": {},
          "execution_count": 44
        }
      ]
    },
    {
      "cell_type": "code",
      "source": [
        "y_test"
      ],
      "metadata": {
        "colab": {
          "base_uri": "https://localhost:8080/"
        },
        "id": "u0STjgwIiYr4",
        "outputId": "a9939368-8604-41fd-c887-69e588ec498c"
      },
      "execution_count": null,
      "outputs": [
        {
          "output_type": "execute_result",
          "data": {
            "text/plain": [
              "array([3, 3, 2, 1, 3, 2, 3, 3, 3, 2, 2, 3, 3, 3, 3, 2, 2, 2, 2, 3, 3, 2,\n",
              "       2, 3, 2, 3, 3, 3, 0, 3, 3, 3, 3, 2, 1, 3, 3, 0, 2, 1, 2, 1, 0, 2,\n",
              "       3, 0, 3, 3, 2, 2, 2, 2, 3, 3, 0, 0, 2, 2, 3, 2, 3, 3, 2, 0, 0, 3,\n",
              "       3, 0, 1, 0, 3, 0, 0, 3, 1, 3, 0, 3, 3, 2, 2, 0, 3, 2, 1, 2, 3, 3,\n",
              "       3, 3, 3, 0, 2, 3, 1, 3, 3, 2, 3, 3, 3, 3, 3, 3, 3, 3, 2, 3, 2, 3,\n",
              "       3, 0, 3, 3, 0, 3, 3, 3, 2, 0, 3, 0, 2, 0, 2, 3, 2, 0, 1, 1, 3, 0,\n",
              "       3, 2, 2, 1, 2, 2, 3, 0, 1, 0, 3, 2, 3, 3, 0, 3, 3, 0, 2, 0, 0, 0,\n",
              "       2, 3, 3, 3, 3, 3, 0, 2, 2, 0, 3, 2, 1, 1, 2, 2, 3, 0, 3, 0, 2, 3,\n",
              "       2, 3, 3, 3, 0, 0, 1, 3, 2, 3, 2, 3, 3, 0, 3, 3, 2, 3, 3, 2, 0, 2,\n",
              "       0, 3, 0, 0, 3, 3, 0, 2, 3, 2, 3, 1, 2, 3, 2, 2, 0, 3, 3, 2, 3, 2,\n",
              "       3, 3, 3, 2, 3, 0, 3, 3, 0, 0, 3, 2, 2, 2, 3, 3, 3, 3, 0, 3, 0, 1,\n",
              "       3, 2, 2, 2, 2, 3, 3, 1, 3, 2, 3, 2, 1, 2, 2, 2, 2, 2, 3, 3, 3, 1,\n",
              "       1, 3, 2, 3, 3, 1, 1, 0, 2, 2, 3, 2, 3, 2, 2, 1, 3, 2, 1, 3, 2, 0,\n",
              "       3, 2, 0, 3, 0, 2, 3, 3, 2, 1, 2, 2, 3, 2, 3, 3, 3, 3, 3, 2, 1, 2,\n",
              "       3, 3, 1, 3, 0, 2, 3, 0, 0, 3, 3, 1, 3, 3, 0, 3, 3, 2, 2, 2, 3, 0,\n",
              "       0, 0, 1, 1, 3, 3, 0, 3, 3, 2, 0, 3, 2, 0, 3, 0, 2, 1, 3, 1, 3, 3,\n",
              "       3, 3, 3, 3, 2, 3, 3, 2, 0, 0, 3, 3, 3, 3, 3, 3, 3, 0, 2, 3, 2, 3,\n",
              "       3, 2, 0, 1, 3, 3, 3, 3, 3, 3, 1, 0, 0, 2, 2, 3, 0, 3, 3, 3, 3, 2,\n",
              "       3, 3, 3, 2, 2, 3, 3, 1, 3, 2, 3, 3, 0, 0, 2, 3, 1, 3, 2, 2, 3, 3,\n",
              "       2, 0, 2, 2, 0, 0, 1, 3, 3, 3, 2, 3, 3, 0, 3, 3, 3, 3, 2, 3, 3, 0,\n",
              "       3, 3, 2, 1, 2, 3, 2, 2, 3, 1, 3, 2, 3, 3, 2, 3, 2, 1, 3, 2, 3, 2,\n",
              "       2, 1, 3, 2, 3, 1, 0, 0, 3, 2, 3, 3, 3, 3, 3, 2, 3, 3, 3, 3, 3, 2,\n",
              "       3, 3, 3, 3, 0, 2, 0, 1, 3, 3, 1, 3, 2, 3, 0, 3, 3, 3, 0, 0, 1, 3,\n",
              "       2, 3, 3, 3, 3, 3, 3, 3, 2, 3, 2, 3, 2, 2, 2, 3, 3, 3, 0, 2, 0, 3,\n",
              "       3, 3, 2, 3, 2, 0, 0, 1, 0, 1, 2, 3, 2, 0, 1, 3, 3, 3, 0, 3, 3, 2,\n",
              "       3, 3, 3, 3, 2, 2, 1, 3, 3, 3, 3, 2, 2, 3, 1, 3, 3, 3, 0, 0, 0, 3,\n",
              "       3, 2, 3, 2, 2, 2, 0, 3, 3, 1, 3, 3, 2, 2, 3, 3, 2, 1, 3, 1, 2, 2,\n",
              "       3, 2, 3, 0, 3, 3, 3, 2, 3, 3, 2, 2, 3, 3, 3])"
            ]
          },
          "metadata": {},
          "execution_count": 45
        }
      ]
    },
    {
      "cell_type": "markdown",
      "source": [
        "Save the processed data"
      ],
      "metadata": {
        "id": "4DinFxcuibwm"
      }
    },
    {
      "cell_type": "code",
      "source": [
        "import scipy.sparse as sp\n",
        "\n",
        "sp.save_npz('X_train_syn.npz', X_train_aug_resampled)\n",
        "\n",
        "with open('y_train_syn.npy', 'wb') as f:\n",
        "    np.save(f, y_train_aug_resampled)\n",
        "\n",
        "sp.save_npz('X_test_syn.npz', tf_x_test)\n",
        "\n",
        "with open('y_test_syn.npy', 'wb') as f:\n",
        "    np.save(f, y_test)"
      ],
      "metadata": {
        "id": "5nZcltGfiZ54"
      },
      "execution_count": null,
      "outputs": []
    },
    {
      "cell_type": "code",
      "source": [],
      "metadata": {
        "id": "KdXeJkeZUWTK"
      },
      "execution_count": null,
      "outputs": []
    }
  ]
}