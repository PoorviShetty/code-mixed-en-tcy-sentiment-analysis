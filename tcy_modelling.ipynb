{
  "nbformat": 4,
  "nbformat_minor": 0,
  "metadata": {
    "colab": {
      "provenance": []
    },
    "kernelspec": {
      "name": "python3",
      "display_name": "Python 3"
    },
    "language_info": {
      "name": "python"
    },
    "gpuClass": "standard"
  },
  "cells": [
    {
      "cell_type": "code",
      "source": [
        "from google.colab import drive\n",
        "drive.mount('/content/drive')"
      ],
      "metadata": {
        "colab": {
          "base_uri": "https://localhost:8080/"
        },
        "id": "TchUPFiCjPTT",
        "outputId": "33f439ab-6d6a-4230-fd2c-646608c518a3"
      },
      "execution_count": null,
      "outputs": [
        {
          "output_type": "stream",
          "name": "stdout",
          "text": [
            "Drive already mounted at /content/drive; to attempt to forcibly remount, call drive.mount(\"/content/drive\", force_remount=True).\n"
          ]
        }
      ]
    },
    {
      "cell_type": "code",
      "source": [
        "%reset"
      ],
      "metadata": {
        "colab": {
          "base_uri": "https://localhost:8080/"
        },
        "id": "YCcF17S_jYO1",
        "outputId": "84113c66-f841-4cd2-9b55-66ef1368e58d"
      },
      "execution_count": null,
      "outputs": [
        {
          "name": "stdout",
          "output_type": "stream",
          "text": [
            "Once deleted, variables cannot be recovered. Proceed (y/[n])? y\n"
          ]
        }
      ]
    },
    {
      "cell_type": "code",
      "execution_count": null,
      "metadata": {
        "id": "fz0UXsBEgVae"
      },
      "outputs": [],
      "source": [
        "import numpy as np\n",
        "import pandas as pd\n",
        "import matplotlib.pyplot as plt\n",
        "import seaborn as sns\n",
        "\n",
        "from sklearn.model_selection import train_test_split\n",
        "\n",
        "from sklearn.metrics import classification_report\n",
        "from sklearn.linear_model import LogisticRegression\n",
        "from sklearn.svm import LinearSVC\n",
        "from sklearn.naive_bayes import MultinomialNB\n",
        "from sklearn.neighbors import KNeighborsClassifier\n",
        "from sklearn.tree import DecisionTreeClassifier\n",
        "from sklearn.neural_network import MLPClassifier\n",
        "from sklearn.ensemble import RandomForestClassifier, StackingClassifier\n",
        "from sklearn.svm import SVC\n",
        "from sklearn.ensemble import VotingClassifier\n",
        "from sklearn.ensemble import BaggingClassifier\n",
        "from sklearn.ensemble import AdaBoostClassifier\n",
        "from sklearn.multiclass import OneVsRestClassifier\n",
        "\n",
        "import scipy.sparse as sp\n",
        "\n",
        "import xgboost as xgb\n",
        "from sklearn.ensemble import GradientBoostingClassifier\n",
        "\n",
        "from sklearn.model_selection import cross_val_score\n",
        "from sklearn.metrics import make_scorer, f1_score"
      ]
    },
    {
      "cell_type": "markdown",
      "source": [
        "Import data"
      ],
      "metadata": {
        "id": "XWJ618MymWzl"
      }
    },
    {
      "cell_type": "code",
      "source": [
        "X_train = sp.load_npz('/content/drive/MyDrive/tulu/X_train_syn.npz')\n",
        "\n",
        "y_train = pd.Series(np.load('/content/drive/MyDrive/tulu/y_train_syn.npy'))\n",
        "\n",
        "X_test = sp.load_npz('/content/drive/MyDrive/tulu/X_test_syn.npz')\n",
        "\n",
        "y_test = pd.Series(np.load('/content/drive/MyDrive/tulu/y_test_syn.npy'))"
      ],
      "metadata": {
        "id": "bbgJl_ekjb9l"
      },
      "execution_count": null,
      "outputs": []
    },
    {
      "cell_type": "code",
      "source": [
        "X_train"
      ],
      "metadata": {
        "colab": {
          "base_uri": "https://localhost:8080/"
        },
        "id": "xQy2eGMIu8FL",
        "outputId": "5fc6f368-c50c-4e90-f18c-fa0ece5ab225"
      },
      "execution_count": null,
      "outputs": [
        {
          "output_type": "execute_result",
          "data": {
            "text/plain": [
              "<44236x5000 sparse matrix of type '<class 'numpy.float64'>'\n",
              "\twith 250164 stored elements in Compressed Sparse Row format>"
            ]
          },
          "metadata": {},
          "execution_count": 4
        }
      ]
    },
    {
      "cell_type": "code",
      "source": [
        "y_train"
      ],
      "metadata": {
        "colab": {
          "base_uri": "https://localhost:8080/"
        },
        "id": "2gQdInbhu90-",
        "outputId": "b2eb1e8d-4f2b-4bba-f36c-e1dbe3e5c767"
      },
      "execution_count": null,
      "outputs": [
        {
          "output_type": "execute_result",
          "data": {
            "text/plain": [
              "0        3\n",
              "1        3\n",
              "2        3\n",
              "3        3\n",
              "4        3\n",
              "        ..\n",
              "44231    2\n",
              "44232    2\n",
              "44233    2\n",
              "44234    2\n",
              "44235    2\n",
              "Length: 44236, dtype: int64"
            ]
          },
          "metadata": {},
          "execution_count": 5
        }
      ]
    },
    {
      "cell_type": "markdown",
      "source": [
        "Models"
      ],
      "metadata": {
        "id": "4RZ59-JvmaQm"
      }
    },
    {
      "cell_type": "code",
      "source": [
        "def modelling(tf_x_train, y_train, tf_x_test, y_test, **kwargs):\n",
        "\n",
        "    # f1_scorer = make_scorer(f1_score, average='weighted')\n",
        "    if 'mb' in kwargs.keys() and kwargs['mb']:\n",
        "        mb = MultinomialNB(alpha=0.1)\n",
        "        mb.fit(tf_x_train,y_train)\n",
        "        y_test_pred=mb.predict(tf_x_test)\n",
        "        report=classification_report(y_test, y_test_pred, output_dict=True)\n",
        "        print(\"Multinomial Naive Bayes:\")\n",
        "        print(\"------------------\")\n",
        "        print('F1 Score in Weighted Average: ', report['weighted avg']['f1-score'])\n",
        "        print(report)\n",
        "\n",
        "        # scores = cross_val_score(mb, tf_x_test, y_test, cv=5, scoring=f1_scorer)\n",
        "        # print(\"Cross-validation scores:\", scores)\n",
        "        # print(\"Average score:\", scores.mean())\n",
        "\n",
        "        print()\n",
        "        print()\n",
        "\n",
        "    if 'rf' in kwargs.keys() and kwargs['rf']:\n",
        "        # Params checked\n",
        "        rf = RandomForestClassifier(criterion='entropy', max_depth=8, max_features='log2',\n",
        "                       n_estimators=500, random_state=42, min_samples_split = 7)\n",
        "        rf.fit(tf_x_train,y_train)\n",
        "        y_test_pred=rf.predict(tf_x_test)\n",
        "        report=classification_report(y_test, y_test_pred,output_dict=True)\n",
        "        print(\"Random Forest:\")\n",
        "        print(\"------------------\")\n",
        "        print('F1 Score in Weighted Average: ', report['weighted avg']['f1-score'])\n",
        "        print(report)\n",
        "\n",
        "        # scores = cross_val_score(rf, tf_x_test, y_test, cv=5, scoring=f1_scorer)\n",
        "        # print(\"Cross-validation scores:\", scores)\n",
        "        # print(\"Average score:\", scores.mean())\n",
        "\n",
        "        print()\n",
        "        print()\n",
        "\n",
        "    if 'lr' in kwargs.keys() and kwargs['lr']:\n",
        "        lr = LogisticRegression(C=10.0, max_iter=10000, penalty='l1', solver='liblinear')\n",
        "        lr.fit(tf_x_train,y_train)\n",
        "        y_test_pred=lr.predict(tf_x_test)\n",
        "\n",
        "        lr_report=classification_report(y_test, y_test_pred,output_dict=True)\n",
        "        print(\"LR:\")\n",
        "        print(\"------------------\")\n",
        "        print('F1 Score in Weighted Average: ', report['weighted avg']['f1-score'])\n",
        "        print(report)\n",
        "\n",
        "        # scores = cross_val_score(lr, tf_x_test, y_test, cv=5, scoring=f1_scorer)\n",
        "        # print(\"Cross-validation scores:\", scores)\n",
        "        # print(\"Average score:\", scores.mean())\n",
        "\n",
        "        print()\n",
        "        print()\n",
        "\n",
        "    if 'svm' in kwargs.keys() and kwargs['svm']:\n",
        "        svm = LinearSVC(random_state=0,  max_iter=5000, C=0.1, penalty = 'l2')\n",
        "        svm.fit(tf_x_train,y_train)\n",
        "        y_test_pred=svm.predict(tf_x_test)\n",
        "\n",
        "        report=classification_report(y_test, y_test_pred,output_dict=True)\n",
        "        print(\"SVM:\")\n",
        "        print(\"------------------\")\n",
        "        print('F1 Score in Weighted Average: ', report['weighted avg']['f1-score'])\n",
        "        print(report)\n",
        "\n",
        "        # scores = cross_val_score(svm, tf_x_test, y_test, cv=5, scoring=f1_scorer)\n",
        "        # print(\"Cross-validation scores:\", scores)\n",
        "        # print(\"Average score:\", scores.mean())\n",
        "\n",
        "        print()\n",
        "        print()\n",
        "\n",
        "    if 'dt' in kwargs.keys() and kwargs['dt']:\n",
        "        # Params checked\n",
        "        dt = DecisionTreeClassifier(ccp_alpha=0.0001, criterion='gini', max_depth=100, min_samples_split = 10, random_state=1024)\n",
        "        dt.fit(tf_x_train,y_train)\n",
        "        y_test_pred=dt.predict(tf_x_test)\n",
        "        report=classification_report(y_test, y_test_pred,output_dict=True)\n",
        "        print(\"Decision Tree:\")\n",
        "        print(\"------------------\")\n",
        "        print('F1 Score in Weighted Average: ', report['weighted avg']['f1-score'])\n",
        "        print(report)\n",
        "\n",
        "        # scores = cross_val_score(dt, tf_x_test, y_test, cv=5, scoring=f1_scorer)\n",
        "        # print(\"Cross-validation scores:\", scores)\n",
        "        # print(\"Average score:\", scores.mean())\n",
        "\n",
        "        print()\n",
        "        print()\n",
        "\n",
        "    if 'knn' in kwargs.keys() and kwargs['knn']:\n",
        "        # Params checked\n",
        "        knn = KNeighborsClassifier(n_neighbors=1)\n",
        "        knn.fit(tf_x_train,y_train)\n",
        "        y_test_pred=knn.predict(tf_x_test)\n",
        "        report=classification_report(y_test, y_test_pred,output_dict=True)\n",
        "        print(\"KNN:\")\n",
        "        print(\"------------------\")\n",
        "        print('F1 Score in Weighted Average: ', report['weighted avg']['f1-score'])\n",
        "        print(report)\n",
        "\n",
        "        # scores = cross_val_score(knn, tf_x_test, y_test, cv=5, scoring=f1_scorer)\n",
        "        # print(\"Cross-validation scores:\", scores)\n",
        "        # print(\"Average score:\", scores.mean())\n",
        "\n",
        "        print()\n",
        "        print()\n",
        "\n",
        "    if 'mlp' in kwargs.keys() and kwargs['mlp']:\n",
        "        mlp = MLPClassifier(random_state=1, max_iter=300)\n",
        "        mlp.fit(tf_x_train,y_train)\n",
        "        y_test_pred=mlp.predict(tf_x_test)\n",
        "        report=classification_report(y_test, y_test_pred,output_dict=True)\n",
        "        print(\"Multi-Layer Perceptron:\")\n",
        "        print(\"------------------\")\n",
        "        print('F1 Score in Weighted Average: ', report['weighted avg']['f1-score'])\n",
        "        print(report)\n",
        "\n",
        "        # scores = cross_val_score(mlp, tf_x_test, y_test, cv=5, scoring=f1_scorer)\n",
        "        # print(\"Cross-validation scores:\", scores)\n",
        "        # print(\"Average score:\", scores.mean())\n",
        "\n",
        "        print()\n",
        "        print()\n",
        "\n",
        "    return 1"
      ],
      "metadata": {
        "id": "Tw9De2QYmbYO"
      },
      "execution_count": null,
      "outputs": []
    },
    {
      "cell_type": "code",
      "source": [
        "modelling(X_train, y_train, X_test, y_test, knn=True, svm=True, lr=True, mb=True, dt=True, rf=True)"
      ],
      "metadata": {
        "colab": {
          "base_uri": "https://localhost:8080/"
        },
        "id": "gS4-yHXVmcFZ",
        "outputId": "15f7f1f4-ab01-4c09-9692-83d448126ed4"
      },
      "execution_count": null,
      "outputs": [
        {
          "output_type": "stream",
          "name": "stdout",
          "text": [
            "Multinomial Naive Bayes:\n",
            "------------------\n",
            "F1 Score in Weighted Average:  0.6362525315500142\n",
            "{'0': {'precision': 0.25, 'recall': 0.2736842105263158, 'f1-score': 0.2613065326633166, 'support': 95}, '1': {'precision': 0.35294117647058826, 'recall': 0.4444444444444444, 'f1-score': 0.39344262295081966, 'support': 54}, '2': {'precision': 0.5705882352941176, 'recall': 0.5950920245398773, 'f1-score': 0.5825825825825826, 'support': 163}, '3': {'precision': 0.8764044943820225, 'recall': 0.7878787878787878, 'f1-score': 0.8297872340425531, 'support': 297}, 'accuracy': 0.625615763546798, 'macro avg': {'precision': 0.5124834765366821, 'recall': 0.5252748668473564, 'f1-score': 0.516779743059818, 'support': 609}, 'weighted avg': {'precision': 0.6504217417304, 'recall': 0.625615763546798, 'f1-score': 0.6362525315500142, 'support': 609}}\n",
            "\n",
            "\n",
            "Random Forest:\n",
            "------------------\n",
            "F1 Score in Weighted Average:  0.6255448202480735\n",
            "{'0': {'precision': 0.29545454545454547, 'recall': 0.2736842105263158, 'f1-score': 0.28415300546448086, 'support': 95}, '1': {'precision': 0.373134328358209, 'recall': 0.46296296296296297, 'f1-score': 0.4132231404958678, 'support': 54}, '2': {'precision': 0.5175879396984925, 'recall': 0.6319018404907976, 'f1-score': 0.5690607734806631, 'support': 163}, '3': {'precision': 0.8705882352941177, 'recall': 0.7474747474747475, 'f1-score': 0.8043478260869567, 'support': 297}, 'accuracy': 0.6174055829228243, 'macro avg': {'precision': 0.5141912622013411, 'recall': 0.529005940363706, 'f1-score': 0.5176961863819921, 'support': 609}, 'weighted avg': {'precision': 0.642280748116145, 'recall': 0.6174055829228243, 'f1-score': 0.6255448202480735, 'support': 609}}\n",
            "\n",
            "\n",
            "LR:\n",
            "------------------\n",
            "F1 Score in Weighted Average:  0.6255448202480735\n",
            "{'0': {'precision': 0.29545454545454547, 'recall': 0.2736842105263158, 'f1-score': 0.28415300546448086, 'support': 95}, '1': {'precision': 0.373134328358209, 'recall': 0.46296296296296297, 'f1-score': 0.4132231404958678, 'support': 54}, '2': {'precision': 0.5175879396984925, 'recall': 0.6319018404907976, 'f1-score': 0.5690607734806631, 'support': 163}, '3': {'precision': 0.8705882352941177, 'recall': 0.7474747474747475, 'f1-score': 0.8043478260869567, 'support': 297}, 'accuracy': 0.6174055829228243, 'macro avg': {'precision': 0.5141912622013411, 'recall': 0.529005940363706, 'f1-score': 0.5176961863819921, 'support': 609}, 'weighted avg': {'precision': 0.642280748116145, 'recall': 0.6174055829228243, 'f1-score': 0.6255448202480735, 'support': 609}}\n",
            "\n",
            "\n",
            "SVM:\n",
            "------------------\n",
            "F1 Score in Weighted Average:  0.6358058909278356\n",
            "{'0': {'precision': 0.2857142857142857, 'recall': 0.2736842105263158, 'f1-score': 0.27956989247311825, 'support': 95}, '1': {'precision': 0.3235294117647059, 'recall': 0.4074074074074074, 'f1-score': 0.36065573770491804, 'support': 54}, '2': {'precision': 0.553072625698324, 'recall': 0.6073619631901841, 'f1-score': 0.5789473684210527, 'support': 163}, '3': {'precision': 0.8708487084870848, 'recall': 0.7946127946127947, 'f1-score': 0.8309859154929577, 'support': 297}, 'accuracy': 0.6288998357963875, 'macro avg': {'precision': 0.5082912579161001, 'recall': 0.5207665939341755, 'f1-score': 0.5125397285230117, 'support': 609}, 'weighted avg': {'precision': 0.6459874380749463, 'recall': 0.6288998357963875, 'f1-score': 0.6358058909278356, 'support': 609}}\n",
            "\n",
            "\n",
            "Decision Tree:\n",
            "------------------\n",
            "F1 Score in Weighted Average:  0.5738558705854883\n",
            "{'0': {'precision': 0.2545454545454545, 'recall': 0.14736842105263157, 'f1-score': 0.18666666666666665, 'support': 95}, '1': {'precision': 0.2926829268292683, 'recall': 0.2222222222222222, 'f1-score': 0.25263157894736843, 'support': 54}, '2': {'precision': 0.4528301886792453, 'recall': 0.7361963190184049, 'f1-score': 0.5607476635514018, 'support': 163}, '3': {'precision': 0.8387096774193549, 'recall': 0.7003367003367004, 'f1-score': 0.7633027522935779, 'support': 297}, 'accuracy': 0.5812807881773399, 'macro avg': {'precision': 0.4596920618683308, 'recall': 0.4515309156574897, 'f1-score': 0.4408371653647537, 'support': 609}, 'weighted avg': {'precision': 0.5958863566155402, 'recall': 0.5812807881773399, 'f1-score': 0.5738558705854883, 'support': 609}}\n",
            "\n",
            "\n",
            "KNN:\n",
            "------------------\n",
            "F1 Score in Weighted Average:  0.5150131552266882\n",
            "{'0': {'precision': 0.21367521367521367, 'recall': 0.2631578947368421, 'f1-score': 0.2358490566037736, 'support': 95}, '1': {'precision': 0.15702479338842976, 'recall': 0.35185185185185186, 'f1-score': 0.21714285714285714, 'support': 54}, '2': {'precision': 0.4861111111111111, 'recall': 0.4294478527607362, 'f1-score': 0.4560260586319218, 'support': 163}, '3': {'precision': 0.7973568281938326, 'recall': 0.6094276094276094, 'f1-score': 0.6908396946564885, 'support': 297}, 'accuracy': 0.48440065681444994, 'macro avg': {'precision': 0.4135419865921468, 'recall': 0.41347130219425987, 'f1-score': 0.39996441675876027, 'support': 609}, 'weighted avg': {'precision': 0.5662226161359604, 'recall': 0.48440065681444994, 'f1-score': 0.5150131552266882, 'support': 609}}\n",
            "\n",
            "\n"
          ]
        },
        {
          "output_type": "execute_result",
          "data": {
            "text/plain": [
              "1"
            ]
          },
          "metadata": {},
          "execution_count": 7
        }
      ]
    },
    {
      "cell_type": "code",
      "source": [
        "def modelling_ensemble(tf_x_train, y_train, tf_x_test, y_test, **kwargs):\n",
        "\n",
        "    if 'ada' in kwargs.keys() and kwargs['ada']:\n",
        "        ada = AdaBoostClassifier(learning_rate = 0.5, n_estimators = 300)\n",
        "        ada.fit(X_train,y_train)\n",
        "        y_test_pred=ada.predict(X_test)\n",
        "        report=classification_report(y_test, y_test_pred,output_dict=True)\n",
        "        print(\"Adaboost:\")\n",
        "        print(\"------------------\")\n",
        "        print('F1 Score in Weighted Average: ', report['weighted avg']['f1-score'])\n",
        "        print(report)\n",
        "        print()\n",
        "        print()\n",
        "\n",
        "    if 'ovr' in kwargs.keys() and kwargs['ovr']:\n",
        "        lr_classifier = LogisticRegression(C=10, solver='liblinear', max_iter = 10000)\n",
        "        ovr_classifier = OneVsRestClassifier(lr_classifier)\n",
        "        ovr_classifier.fit(X_train, y_train)\n",
        "        y_test_pred = ovr_classifier.predict(X_test)\n",
        "        report=classification_report(y_test, y_test_pred,output_dict=True)\n",
        "        print(\"OneVsRest:\")\n",
        "        print(\"------------------\")\n",
        "        print('F1 Score in Weighted Average: ', report['weighted avg']['f1-score'])\n",
        "        print(report)\n",
        "        print()\n",
        "        print()\n",
        "\n",
        "    if 'xgb' in kwargs.keys() and kwargs['xgb']:\n",
        "        #Best hyperparameters: {'learning_rate': 0.1, 'max_depth': 7, 'n_estimators': 200}\n",
        "        xbg = xgb.XGBClassifier(objective='reg:squarederror', colsample_bytree= 0.9, learning_rate= 0.1, max_depth = 10, n_estimators = 200)\n",
        "        xbg.fit(tf_x_train,y_train)\n",
        "        y_test_pred=xbg.predict(tf_x_test)\n",
        "        report=classification_report(y_test, y_test_pred, output_dict=True)\n",
        "        print(\"XGBoost: \")\n",
        "        print(\"------------------\")\n",
        "        print('F1 Score in Weighted Average: ', report['weighted avg']['f1-score'])\n",
        "        print(report)\n",
        "        print()\n",
        "        print()\n",
        "\n",
        "    if 'gb' in kwargs.keys() and kwargs['gb']:\n",
        "        bg = GradientBoostingClassifier(n_estimators=50, learning_rate=0.5, max_depth=10, random_state=0)\n",
        "        bg.fit(tf_x_train,y_train)\n",
        "        y_test_pred=bg.predict(tf_x_test)\n",
        "        report=classification_report(y_test, y_test_pred, output_dict=True)\n",
        "        print(\"Gradient Boost: \")\n",
        "        print(\"------------------\")\n",
        "        print('F1 Score in Weighted Average: ', report['weighted avg']['f1-score'])\n",
        "        print(report)\n",
        "        print()\n",
        "        print()\n",
        "\n",
        "\n",
        "    return 1"
      ],
      "metadata": {
        "id": "IbM6-2dLfwfK"
      },
      "execution_count": null,
      "outputs": []
    },
    {
      "cell_type": "code",
      "source": [
        "modelling_ensemble(X_train, y_train, X_test, y_test, gb=True, ada=True, ovr = True)"
      ],
      "metadata": {
        "colab": {
          "base_uri": "https://localhost:8080/"
        },
        "id": "PNvrSvTSnBiB",
        "outputId": "46158582-f60a-47f5-ee6b-3d35e12eee96"
      },
      "execution_count": null,
      "outputs": [
        {
          "output_type": "stream",
          "name": "stdout",
          "text": [
            "Adaboost:\n",
            "------------------\n",
            "F1 Score in Weighted Average:  0.5804650796983588\n",
            "{'0': {'precision': 0.25, 'recall': 0.3368421052631579, 'f1-score': 0.2869955156950673, 'support': 95}, '1': {'precision': 0.40625, 'recall': 0.24074074074074073, 'f1-score': 0.3023255813953488, 'support': 54}, '2': {'precision': 0.45064377682403434, 'recall': 0.6441717791411042, 'f1-score': 0.5303030303030303, 'support': 163}, '3': {'precision': 0.8935185185185185, 'recall': 0.6498316498316499, 'f1-score': 0.7524366471734893, 'support': 297}, 'accuracy': 0.5632183908045977, 'macro avg': {'precision': 0.5001030738356382, 'recall': 0.4678965687441632, 'f1-score': 0.46801519364173394, 'support': 609}, 'weighted avg': {'precision': 0.6313915199052834, 'recall': 0.5632183908045977, 'f1-score': 0.5804650796983588, 'support': 609}}\n",
            "\n",
            "\n",
            "OneVsRest:\n",
            "------------------\n",
            "F1 Score in Weighted Average:  0.6303225649165293\n",
            "{'0': {'precision': 0.29896907216494845, 'recall': 0.30526315789473685, 'f1-score': 0.30208333333333337, 'support': 95}, '1': {'precision': 0.3283582089552239, 'recall': 0.4074074074074074, 'f1-score': 0.36363636363636365, 'support': 54}, '2': {'precision': 0.5625, 'recall': 0.6073619631901841, 'f1-score': 0.584070796460177, 'support': 163}, '3': {'precision': 0.8513011152416357, 'recall': 0.7710437710437711, 'f1-score': 0.8091872791519434, 'support': 297}, 'accuracy': 0.6223316912972086, 'macro avg': {'precision': 0.510282099090452, 'recall': 0.5227690748840249, 'f1-score': 0.5147444431454544, 'support': 609}, 'weighted avg': {'precision': 0.6414734587290936, 'recall': 0.6223316912972086, 'f1-score': 0.6303225649165293, 'support': 609}}\n",
            "\n",
            "\n",
            "Gradient Boost: \n",
            "------------------\n",
            "F1 Score in Weighted Average:  0.6154983789908671\n",
            "{'0': {'precision': 0.3103448275862069, 'recall': 0.28421052631578947, 'f1-score': 0.2967032967032967, 'support': 95}, '1': {'precision': 0.3333333333333333, 'recall': 0.2962962962962963, 'f1-score': 0.3137254901960785, 'support': 54}, '2': {'precision': 0.5198019801980198, 'recall': 0.6441717791411042, 'f1-score': 0.5753424657534246, 'support': 163}, '3': {'precision': 0.8308823529411765, 'recall': 0.7609427609427609, 'f1-score': 0.7943760984182776, 'support': 297}, 'accuracy': 0.6141215106732348, 'macro avg': {'precision': 0.4985906235146842, 'recall': 0.49640534067398767, 'f1-score': 0.4950368377677694, 'support': 609}, 'weighted avg': {'precision': 0.6223030217019644, 'recall': 0.6141215106732348, 'f1-score': 0.6154983789908671, 'support': 609}}\n",
            "\n",
            "\n"
          ]
        },
        {
          "output_type": "execute_result",
          "data": {
            "text/plain": [
              "1"
            ]
          },
          "metadata": {},
          "execution_count": 9
        }
      ]
    },
    {
      "cell_type": "code",
      "source": [
        "# Voting Classifier\n",
        "\n",
        "lr_clf = LogisticRegression(C=10.0, max_iter=10000, penalty='l1', solver='liblinear')\n",
        "rf_clf = RandomForestClassifier(criterion='entropy', max_depth=8, max_features='log2',\n",
        "                       n_estimators=500, random_state=42, min_samples_split = 7)\n",
        "svm_clf = LinearSVC(random_state=0,  max_iter=5000, C=0.1, penalty = 'l2')\n",
        "\n",
        "voting_clf = VotingClassifier(estimators=[('lr', lr_clf), ('rf', rf_clf), ('svm', svm_clf)], voting='hard')\n",
        "voting_clf.fit(X_train, y_train)\n",
        "y_pred = voting_clf.predict(X_test)\n",
        "\n",
        "report = classification_report(y_test, y_pred,output_dict=True)\n",
        "\n",
        "print(\"Voting Classifier: \")\n",
        "print(\"------------------\")\n",
        "print('F1 Score in Weighted Average: ', report['weighted avg']['f1-score'])\n",
        "print(report)\n",
        "print()\n",
        "print()"
      ],
      "metadata": {
        "colab": {
          "base_uri": "https://localhost:8080/"
        },
        "id": "4eGHc7Fe5Ife",
        "outputId": "4cb33230-c9cc-4048-d647-b5877a1ff4ec"
      },
      "execution_count": null,
      "outputs": [
        {
          "output_type": "stream",
          "name": "stdout",
          "text": [
            "Voting Classifier: \n",
            "------------------\n",
            "F1 Score in Weighted Average:  0.6487200803524548\n",
            "{'0': {'precision': 0.3434343434343434, 'recall': 0.35789473684210527, 'f1-score': 0.35051546391752575, 'support': 95}, '1': {'precision': 0.35384615384615387, 'recall': 0.42592592592592593, 'f1-score': 0.38655462184873957, 'support': 54}, '2': {'precision': 0.5674157303370787, 'recall': 0.6196319018404908, 'f1-score': 0.5923753665689149, 'support': 163}, '3': {'precision': 0.8689138576779026, 'recall': 0.7811447811447811, 'f1-score': 0.822695035460993, 'support': 297}, 'accuracy': 0.6403940886699507, 'macro avg': {'precision': 0.5334025213238697, 'recall': 0.5461493364383257, 'f1-score': 0.5380351219490433, 'support': 609}, 'weighted avg': {'precision': 0.6605749338411098, 'recall': 0.6403940886699507, 'f1-score': 0.6487200803524548, 'support': 609}}\n",
            "\n",
            "\n"
          ]
        }
      ]
    },
    {
      "cell_type": "code",
      "source": [
        "# Stacking Classifier\n",
        "\n",
        "clf1 = LinearSVC(random_state=0,  max_iter=5000, C=0.1, penalty = 'l2')\n",
        "clf2 = RandomForestClassifier(criterion='entropy', max_depth=8, max_features='log2',\n",
        "                       n_estimators=500, random_state=42, min_samples_split = 7)\n",
        "clf3 = MultinomialNB(alpha=0.1)\n",
        "\n",
        "meta_clf = LogisticRegression(C=10.0, max_iter=10000, penalty='l1', solver='liblinear')\n",
        "\n",
        "\n",
        "stacking_clf = StackingClassifier(estimators=[('knn', clf1), ('rf', clf2), ('mb', clf3)], final_estimator=meta_clf)\n",
        "stacking_clf.fit(X_train, y_train)\n",
        "y_pred = stacking_clf.predict(X_test)\n",
        "report = classification_report(y_test, y_pred,output_dict=True)\n",
        "\n",
        "print(\"Stacking Classifier: \")\n",
        "print(\"------------------\")\n",
        "print('F1 Score in Weighted Average: ', report['weighted avg']['f1-score'])\n",
        "print(report)\n",
        "print()\n",
        "print()"
      ],
      "metadata": {
        "colab": {
          "base_uri": "https://localhost:8080/"
        },
        "id": "3gSiPimJXSUl",
        "outputId": "f6d9fc17-c079-495e-bed5-500bd50e13e4"
      },
      "execution_count": null,
      "outputs": [
        {
          "output_type": "stream",
          "name": "stdout",
          "text": [
            "Stacking Classifier: \n",
            "------------------\n",
            "F1 Score in Weighted Average:  0.6495373950973585\n",
            "{'0': {'precision': 0.29473684210526313, 'recall': 0.29473684210526313, 'f1-score': 0.29473684210526313, 'support': 95}, '1': {'precision': 0.3728813559322034, 'recall': 0.4074074074074074, 'f1-score': 0.3893805309734514, 'support': 54}, '2': {'precision': 0.5988023952095808, 'recall': 0.6134969325153374, 'f1-score': 0.6060606060606061, 'support': 163}, '3': {'precision': 0.8472222222222222, 'recall': 0.8215488215488216, 'f1-score': 0.8341880341880342, 'support': 297}, 'accuracy': 0.6469622331691297, 'macro avg': {'precision': 0.5284107038673174, 'recall': 0.5342975008942075, 'f1-score': 0.5310915033318387, 'support': 609}, 'weighted avg': {'precision': 0.6524883146789829, 'recall': 0.6469622331691297, 'f1-score': 0.6495373950973585, 'support': 609}}\n",
            "\n",
            "\n"
          ]
        }
      ]
    },
    {
      "cell_type": "code",
      "source": [
        "# Bagging Classifier\n",
        "\n",
        "base_classifier = MultinomialNB(alpha=0.1)\n",
        "\n",
        "bagging_classifier = BaggingClassifier(base_classifier, n_estimators=10, random_state=42)\n",
        "\n",
        "# Train the bagging classifier on the training data\n",
        "bagging_classifier.fit(X_train, y_train)\n",
        "y_test_pred=bagging_classifier.predict(X_test)\n",
        "report=classification_report(y_test, y_test_pred,output_dict=True)\n",
        "print(\"Bagging Classifier: \")\n",
        "print(\"------------------\")\n",
        "print('F1 Score in Weighted Average: ', report['weighted avg']['f1-score'])\n",
        "print(report)\n"
      ],
      "metadata": {
        "colab": {
          "base_uri": "https://localhost:8080/"
        },
        "id": "YnAia4MryLBm",
        "outputId": "4013a26c-4067-42b9-9613-6131efd8ab74"
      },
      "execution_count": null,
      "outputs": [
        {
          "output_type": "stream",
          "name": "stdout",
          "text": [
            "Bagging Classifier: \n",
            "------------------\n",
            "F1 Score in Weighted Average:  0.648981522454134\n",
            "{'0': {'precision': 0.28, 'recall': 0.29473684210526313, 'f1-score': 0.28717948717948716, 'support': 95}, '1': {'precision': 0.35384615384615387, 'recall': 0.42592592592592593, 'f1-score': 0.38655462184873957, 'support': 54}, '2': {'precision': 0.5909090909090909, 'recall': 0.6380368098159509, 'f1-score': 0.6135693215339233, 'support': 163}, '3': {'precision': 0.8768656716417911, 'recall': 0.7912457912457912, 'f1-score': 0.8318584070796461, 'support': 297}, 'accuracy': 0.6403940886699507, 'macro avg': {'precision': 0.525405229099259, 'recall': 0.5374863422732328, 'f1-score': 0.529790459410449, 'support': 609}, 'weighted avg': {'precision': 0.6608456134704205, 'recall': 0.6403940886699507, 'f1-score': 0.648981522454134, 'support': 609}}\n"
          ]
        }
      ]
    },
    {
      "cell_type": "code",
      "source": [],
      "metadata": {
        "id": "OJkuWUa4U168"
      },
      "execution_count": null,
      "outputs": []
    },
    {
      "cell_type": "code",
      "source": [
        "import numpy as np\n",
        "from keras.models import Sequential\n",
        "from keras.layers import Dense, LSTM, Embedding, Dropout, Bidirectional\n",
        "from keras.utils import to_categorical\n",
        "from sklearn.preprocessing import LabelEncoder\n",
        "from sklearn.metrics import classification_report\n",
        "from scipy.sparse import csr_matrix\n",
        "\n",
        "# Convert the sparse matrix to a dense array\n",
        "X_train = csr_matrix.toarray(X_train)\n",
        "X_test = csr_matrix.toarray(X_test)\n",
        "\n",
        "# Reshape the input array to have a third dimension\n",
        "X_train = X_train.reshape(X_train.shape[0], X_train.shape[1], 1)\n",
        "\n",
        "# Define the LSTM model\n",
        "num_classes = len(np.unique(y_train))\n",
        "model = Sequential()\n",
        "model.add(Bidirectional(LSTM(128, input_shape=(X_train.shape[1], X_train.shape[2]))))\n",
        "model.add(Dropout(0.2))\n",
        "model.add(Dense(num_classes, activation='softmax'))\n",
        "\n",
        "# Compile the model\n",
        "model.compile(loss='categorical_crossentropy', optimizer='adam', metrics=['accuracy'])\n",
        "\n",
        "# Encode labels\n",
        "le = LabelEncoder()\n",
        "le.fit(np.unique(y_train))\n",
        "y_train_encoded = le.transform(y_train)\n",
        "y_train_encoded = to_categorical(y_train_encoded, num_classes=num_classes)\n",
        "\n",
        "# Train the model\n",
        "model.fit(X_train, y_train_encoded, validation_split=0.2, epochs=10, batch_size=128)\n",
        "\n",
        "# Evaluate the model\n",
        "\n",
        "X_test = X_test.reshape(X_test.shape[0], X_test.shape[1], 1)\n",
        "y_test_encoded = le.transform(y_test)\n",
        "y_test_encoded = to_categorical(y_test_encoded, num_classes=num_classes)\n",
        "loss, accuracy = model.evaluate(X_test, y_test_encoded)\n",
        "print(\"Test loss:\", loss)\n",
        "print(\"Test accuracy:\", accuracy)\n",
        "\n",
        "# Generate predictions\n",
        "y_pred = model.predict(X_test)\n",
        "y_pred = np.argmax(y_pred, axis=1)\n",
        "y_test = np.argmax(y_test_encoded, axis=1)\n",
        "\n",
        "# Print classification report\n",
        "target_names = le.classes_\n",
        "print(classification_report(y_test, y_pred))\n"
      ],
      "metadata": {
        "colab": {
          "base_uri": "https://localhost:8080/"
        },
        "id": "olagyCImHA_3",
        "outputId": "398c3071-fd05-4cf5-d862-e53aade959fa"
      },
      "execution_count": null,
      "outputs": [
        {
          "output_type": "stream",
          "name": "stdout",
          "text": [
            "Epoch 1/10\n",
            "255/255 [==============================] - 142s 517ms/step - loss: 1.3545 - accuracy: 0.3147 - val_loss: 1.6155 - val_accuracy: 0.0000e+00\n",
            "Epoch 2/10\n",
            "255/255 [==============================] - 134s 525ms/step - loss: 1.3532 - accuracy: 0.3119 - val_loss: 1.7021 - val_accuracy: 0.0000e+00\n",
            "Epoch 3/10\n",
            "255/255 [==============================] - 134s 524ms/step - loss: 1.3524 - accuracy: 0.3147 - val_loss: 1.6512 - val_accuracy: 0.0000e+00\n",
            "Epoch 4/10\n",
            "255/255 [==============================] - 137s 536ms/step - loss: 1.3525 - accuracy: 0.3154 - val_loss: 1.6779 - val_accuracy: 0.0000e+00\n",
            "Epoch 5/10\n",
            "255/255 [==============================] - 134s 526ms/step - loss: 1.3521 - accuracy: 0.3162 - val_loss: 1.7043 - val_accuracy: 0.0000e+00\n",
            "Epoch 6/10\n",
            "255/255 [==============================] - 137s 538ms/step - loss: 1.3523 - accuracy: 0.3118 - val_loss: 1.7093 - val_accuracy: 0.0000e+00\n",
            "Epoch 7/10\n",
            "255/255 [==============================] - 138s 541ms/step - loss: 1.3521 - accuracy: 0.3098 - val_loss: 1.7152 - val_accuracy: 0.0000e+00\n",
            "Epoch 8/10\n",
            "255/255 [==============================] - 139s 545ms/step - loss: 1.3762 - accuracy: 0.3135 - val_loss: 1.4451 - val_accuracy: 0.0013\n",
            "Epoch 9/10\n",
            "255/255 [==============================] - 140s 548ms/step - loss: 1.3682 - accuracy: 0.3128 - val_loss: 1.7359 - val_accuracy: 0.0000e+00\n",
            "Epoch 10/10\n",
            "255/255 [==============================] - 130s 508ms/step - loss: 1.3579 - accuracy: 0.3134 - val_loss: 1.6942 - val_accuracy: 0.0000e+00\n",
            "22/22 [==============================] - 3s 110ms/step - loss: 1.3638 - accuracy: 0.3160\n",
            "Test loss: 1.3637601137161255\n",
            "Test accuracy: 0.31602373719215393\n",
            "22/22 [==============================] - 4s 133ms/step\n",
            "              precision    recall  f1-score   support\n",
            "\n",
            "           0       0.17      0.52      0.26       114\n",
            "           1       0.00      0.00      0.00        81\n",
            "           2       0.00      0.00      0.00       164\n",
            "           3       0.47      0.49      0.48       315\n",
            "\n",
            "    accuracy                           0.32       674\n",
            "   macro avg       0.16      0.25      0.18       674\n",
            "weighted avg       0.25      0.32      0.27       674\n",
            "\n"
          ]
        },
        {
          "output_type": "stream",
          "name": "stderr",
          "text": [
            "/usr/local/lib/python3.9/dist-packages/sklearn/metrics/_classification.py:1344: UndefinedMetricWarning: Precision and F-score are ill-defined and being set to 0.0 in labels with no predicted samples. Use `zero_division` parameter to control this behavior.\n",
            "  _warn_prf(average, modifier, msg_start, len(result))\n",
            "/usr/local/lib/python3.9/dist-packages/sklearn/metrics/_classification.py:1344: UndefinedMetricWarning: Precision and F-score are ill-defined and being set to 0.0 in labels with no predicted samples. Use `zero_division` parameter to control this behavior.\n",
            "  _warn_prf(average, modifier, msg_start, len(result))\n",
            "/usr/local/lib/python3.9/dist-packages/sklearn/metrics/_classification.py:1344: UndefinedMetricWarning: Precision and F-score are ill-defined and being set to 0.0 in labels with no predicted samples. Use `zero_division` parameter to control this behavior.\n",
            "  _warn_prf(average, modifier, msg_start, len(result))\n"
          ]
        }
      ]
    }
  ]
}